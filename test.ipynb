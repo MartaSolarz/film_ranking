{
 "cells": [
  {
   "cell_type": "code",
   "execution_count": 1,
   "id": "initial_id",
   "metadata": {
    "collapsed": true,
    "ExecuteTime": {
     "end_time": "2024-05-30T11:23:33.306530Z",
     "start_time": "2024-05-30T11:23:22.815383Z"
    }
   },
   "outputs": [],
   "source": [
    "import numpy as np\n",
    "import pandas as pd"
   ]
  },
  {
   "cell_type": "code",
   "execution_count": 144,
   "outputs": [
    {
     "ename": "ParserError",
     "evalue": "Error tokenizing data. C error: Expected 1 fields in line 68, saw 3\n",
     "output_type": "error",
     "traceback": [
      "\u001B[0;31m---------------------------------------------------------------------------\u001B[0m",
      "\u001B[0;31mParserError\u001B[0m                               Traceback (most recent call last)",
      "Cell \u001B[0;32mIn[144], line 1\u001B[0m\n\u001B[0;32m----> 1\u001B[0m akas_df \u001B[38;5;241m=\u001B[39m \u001B[43mpd\u001B[49m\u001B[38;5;241;43m.\u001B[39;49m\u001B[43mread_csv\u001B[49m\u001B[43m(\u001B[49m\u001B[38;5;124;43m'\u001B[39;49m\u001B[38;5;124;43m./data/title.akas.tsv\u001B[39;49m\u001B[38;5;124;43m'\u001B[39;49m\u001B[43m,\u001B[49m\u001B[43m \u001B[49m\u001B[43mna_values\u001B[49m\u001B[38;5;241;43m=\u001B[39;49m\u001B[38;5;124;43m'\u001B[39;49m\u001B[38;5;130;43;01m\\\\\u001B[39;49;00m\u001B[38;5;124;43mN\u001B[39;49m\u001B[38;5;124;43m'\u001B[39;49m\u001B[43m,\u001B[49m\u001B[43m \u001B[49m\u001B[43mlow_memory\u001B[49m\u001B[38;5;241;43m=\u001B[39;49m\u001B[38;5;28;43;01mFalse\u001B[39;49;00m\u001B[43m)\u001B[49m\n\u001B[1;32m      2\u001B[0m ratings_df \u001B[38;5;241m=\u001B[39m pd\u001B[38;5;241m.\u001B[39mread_csv(\u001B[38;5;124m'\u001B[39m\u001B[38;5;124m./data/title.ratings.tsv\u001B[39m\u001B[38;5;124m'\u001B[39m, sep\u001B[38;5;241m=\u001B[39m\u001B[38;5;124m'\u001B[39m\u001B[38;5;130;01m\\t\u001B[39;00m\u001B[38;5;124m'\u001B[39m, na_values\u001B[38;5;241m=\u001B[39m\u001B[38;5;124m'\u001B[39m\u001B[38;5;130;01m\\\\\u001B[39;00m\u001B[38;5;124mN\u001B[39m\u001B[38;5;124m'\u001B[39m, low_memory\u001B[38;5;241m=\u001B[39m\u001B[38;5;28;01mFalse\u001B[39;00m)\n",
      "File \u001B[0;32m~/Studies/project/film_ranking/venv/lib/python3.12/site-packages/pandas/io/parsers/readers.py:912\u001B[0m, in \u001B[0;36mread_csv\u001B[0;34m(filepath_or_buffer, sep, delimiter, header, names, index_col, usecols, dtype, engine, converters, true_values, false_values, skipinitialspace, skiprows, skipfooter, nrows, na_values, keep_default_na, na_filter, verbose, skip_blank_lines, parse_dates, infer_datetime_format, keep_date_col, date_parser, date_format, dayfirst, cache_dates, iterator, chunksize, compression, thousands, decimal, lineterminator, quotechar, quoting, doublequote, escapechar, comment, encoding, encoding_errors, dialect, on_bad_lines, delim_whitespace, low_memory, memory_map, float_precision, storage_options, dtype_backend)\u001B[0m\n\u001B[1;32m    899\u001B[0m kwds_defaults \u001B[38;5;241m=\u001B[39m _refine_defaults_read(\n\u001B[1;32m    900\u001B[0m     dialect,\n\u001B[1;32m    901\u001B[0m     delimiter,\n\u001B[0;32m   (...)\u001B[0m\n\u001B[1;32m    908\u001B[0m     dtype_backend\u001B[38;5;241m=\u001B[39mdtype_backend,\n\u001B[1;32m    909\u001B[0m )\n\u001B[1;32m    910\u001B[0m kwds\u001B[38;5;241m.\u001B[39mupdate(kwds_defaults)\n\u001B[0;32m--> 912\u001B[0m \u001B[38;5;28;01mreturn\u001B[39;00m \u001B[43m_read\u001B[49m\u001B[43m(\u001B[49m\u001B[43mfilepath_or_buffer\u001B[49m\u001B[43m,\u001B[49m\u001B[43m \u001B[49m\u001B[43mkwds\u001B[49m\u001B[43m)\u001B[49m\n",
      "File \u001B[0;32m~/Studies/project/film_ranking/venv/lib/python3.12/site-packages/pandas/io/parsers/readers.py:583\u001B[0m, in \u001B[0;36m_read\u001B[0;34m(filepath_or_buffer, kwds)\u001B[0m\n\u001B[1;32m    580\u001B[0m     \u001B[38;5;28;01mreturn\u001B[39;00m parser\n\u001B[1;32m    582\u001B[0m \u001B[38;5;28;01mwith\u001B[39;00m parser:\n\u001B[0;32m--> 583\u001B[0m     \u001B[38;5;28;01mreturn\u001B[39;00m \u001B[43mparser\u001B[49m\u001B[38;5;241;43m.\u001B[39;49m\u001B[43mread\u001B[49m\u001B[43m(\u001B[49m\u001B[43mnrows\u001B[49m\u001B[43m)\u001B[49m\n",
      "File \u001B[0;32m~/Studies/project/film_ranking/venv/lib/python3.12/site-packages/pandas/io/parsers/readers.py:1704\u001B[0m, in \u001B[0;36mTextFileReader.read\u001B[0;34m(self, nrows)\u001B[0m\n\u001B[1;32m   1697\u001B[0m nrows \u001B[38;5;241m=\u001B[39m validate_integer(\u001B[38;5;124m\"\u001B[39m\u001B[38;5;124mnrows\u001B[39m\u001B[38;5;124m\"\u001B[39m, nrows)\n\u001B[1;32m   1698\u001B[0m \u001B[38;5;28;01mtry\u001B[39;00m:\n\u001B[1;32m   1699\u001B[0m     \u001B[38;5;66;03m# error: \"ParserBase\" has no attribute \"read\"\u001B[39;00m\n\u001B[1;32m   1700\u001B[0m     (\n\u001B[1;32m   1701\u001B[0m         index,\n\u001B[1;32m   1702\u001B[0m         columns,\n\u001B[1;32m   1703\u001B[0m         col_dict,\n\u001B[0;32m-> 1704\u001B[0m     ) \u001B[38;5;241m=\u001B[39m \u001B[38;5;28;43mself\u001B[39;49m\u001B[38;5;241;43m.\u001B[39;49m\u001B[43m_engine\u001B[49m\u001B[38;5;241;43m.\u001B[39;49m\u001B[43mread\u001B[49m\u001B[43m(\u001B[49m\u001B[43m  \u001B[49m\u001B[38;5;66;43;03m# type: ignore[attr-defined]\u001B[39;49;00m\n\u001B[1;32m   1705\u001B[0m \u001B[43m        \u001B[49m\u001B[43mnrows\u001B[49m\n\u001B[1;32m   1706\u001B[0m \u001B[43m    \u001B[49m\u001B[43m)\u001B[49m\n\u001B[1;32m   1707\u001B[0m \u001B[38;5;28;01mexcept\u001B[39;00m \u001B[38;5;167;01mException\u001B[39;00m:\n\u001B[1;32m   1708\u001B[0m     \u001B[38;5;28mself\u001B[39m\u001B[38;5;241m.\u001B[39mclose()\n",
      "File \u001B[0;32m~/Studies/project/film_ranking/venv/lib/python3.12/site-packages/pandas/io/parsers/c_parser_wrapper.py:239\u001B[0m, in \u001B[0;36mCParserWrapper.read\u001B[0;34m(self, nrows)\u001B[0m\n\u001B[1;32m    236\u001B[0m         data \u001B[38;5;241m=\u001B[39m _concatenate_chunks(chunks)\n\u001B[1;32m    238\u001B[0m     \u001B[38;5;28;01melse\u001B[39;00m:\n\u001B[0;32m--> 239\u001B[0m         data \u001B[38;5;241m=\u001B[39m \u001B[38;5;28;43mself\u001B[39;49m\u001B[38;5;241;43m.\u001B[39;49m\u001B[43m_reader\u001B[49m\u001B[38;5;241;43m.\u001B[39;49m\u001B[43mread\u001B[49m\u001B[43m(\u001B[49m\u001B[43mnrows\u001B[49m\u001B[43m)\u001B[49m\n\u001B[1;32m    240\u001B[0m \u001B[38;5;28;01mexcept\u001B[39;00m \u001B[38;5;167;01mStopIteration\u001B[39;00m:\n\u001B[1;32m    241\u001B[0m     \u001B[38;5;28;01mif\u001B[39;00m \u001B[38;5;28mself\u001B[39m\u001B[38;5;241m.\u001B[39m_first_chunk:\n",
      "File \u001B[0;32m~/Studies/project/film_ranking/venv/lib/python3.12/site-packages/pandas/_libs/parsers.pyx:796\u001B[0m, in \u001B[0;36mpandas._libs.parsers.TextReader.read\u001B[0;34m()\u001B[0m\n",
      "File \u001B[0;32m~/Studies/project/film_ranking/venv/lib/python3.12/site-packages/pandas/_libs/parsers.pyx:884\u001B[0m, in \u001B[0;36mpandas._libs.parsers.TextReader._read_rows\u001B[0;34m()\u001B[0m\n",
      "File \u001B[0;32m~/Studies/project/film_ranking/venv/lib/python3.12/site-packages/pandas/_libs/parsers.pyx:861\u001B[0m, in \u001B[0;36mpandas._libs.parsers.TextReader._check_tokenize_status\u001B[0;34m()\u001B[0m\n",
      "File \u001B[0;32m~/Studies/project/film_ranking/venv/lib/python3.12/site-packages/pandas/_libs/parsers.pyx:2029\u001B[0m, in \u001B[0;36mpandas._libs.parsers.raise_parser_error\u001B[0;34m()\u001B[0m\n",
      "\u001B[0;31mParserError\u001B[0m: Error tokenizing data. C error: Expected 1 fields in line 68, saw 3\n"
     ]
    }
   ],
   "source": [
    "akas_df = pd.read_csv('./data/title.akas.tsv', na_values='\\\\N', low_memory=False)\n",
    "ratings_df = pd.read_csv('./data/title.ratings.tsv', sep='\\t', na_values='\\\\N', low_memory=False)"
   ],
   "metadata": {
    "collapsed": false,
    "ExecuteTime": {
     "end_time": "2024-05-30T14:06:55.755369Z",
     "start_time": "2024-05-30T14:06:55.655425Z"
    }
   },
   "id": "437d16b433b0e472"
  },
  {
   "cell_type": "code",
   "execution_count": 83,
   "outputs": [],
   "source": [
    "basics_df = pd.read_csv('./data/title.basics.tsv', sep='\\t', na_values='\\\\N', low_memory=False)"
   ],
   "metadata": {
    "collapsed": false,
    "ExecuteTime": {
     "end_time": "2024-05-30T12:30:45.816668Z",
     "start_time": "2024-05-30T12:30:09.265031Z"
    }
   },
   "id": "5fda31ab8fadb83c"
  },
  {
   "cell_type": "code",
   "execution_count": 97,
   "outputs": [],
   "source": [
    "def filter_years(data, start_year, end_year):\n",
    "    common_years = set(data['startYear'].dropna().unique().astype(int))\n",
    "\n",
    "    if start_year and end_year:\n",
    "        common_years = common_years.intersection(range(start_year, end_year + 1))\n",
    "\n",
    "    if not common_years:\n",
    "        raise ValueError(\"No common years found between the datasets.\")\n",
    "\n",
    "    processed_data = data[data['startYear'].isin(common_years)]\n",
    "    \n",
    "    return processed_data"
   ],
   "metadata": {
    "collapsed": false,
    "ExecuteTime": {
     "end_time": "2024-05-30T12:47:51.876873Z",
     "start_time": "2024-05-30T12:47:51.870397Z"
    }
   },
   "id": "9a5d84aa6fd08bd0"
  },
  {
   "cell_type": "code",
   "execution_count": 98,
   "outputs": [],
   "source": [
    "def merge_data(basics_df: pd.DataFrame, ratings_df: pd.DataFrame, akas_df: pd.DataFrame) -> pd.DataFrame:\n",
    "    \"\"\"\n",
    "    Merge the data from the dataframes.\n",
    "\n",
    "    :param basics_df: pd.DataFrame: Data with basic information about the movies\n",
    "    :param ratings_df: pd.DataFrame: Data with ratings of the movies\n",
    "    :param akas_df: pd.DataFrame: Data with information about the different regions where the movies were presented\n",
    "\n",
    "    :return: pd.DataFrame: Merged data from the dataframes\n",
    "    \"\"\"\n",
    "    merged_df = akas_df.merge(basics_df, left_on='titleId', right_on='tconst')\n",
    "    merged_df = merged_df.merge(ratings_df, on='tconst')\n",
    "\n",
    "    return merged_df"
   ],
   "metadata": {
    "collapsed": false,
    "ExecuteTime": {
     "end_time": "2024-05-30T12:47:52.310208Z",
     "start_time": "2024-05-30T12:47:52.303347Z"
    }
   },
   "id": "aa38f91f5a3d7866"
  },
  {
   "cell_type": "code",
   "execution_count": 112,
   "outputs": [],
   "source": [
    "def get_top_n_movies_per_country(movies_df, n):\n",
    "    # Grupowanie filmów według regionu i liczenie liczby filmów w każdym regionie\n",
    "    country_movie_counts = movies_df['region'].value_counts()\n",
    "\n",
    "    # Wybieranie tylko tych krajów, które mają co najmniej n filmów\n",
    "    valid_countries = country_movie_counts[country_movie_counts >= n].index\n",
    "    valid_movies_df = movies_df[movies_df['region'].isin(valid_countries)]\n",
    "\n",
    "    # Sortowanie filmów według ocen i liczby głosów\n",
    "    valid_movies_df = valid_movies_df.sort_values(by=['region', 'averageRating', 'numVotes'], ascending=[True, False, False])\n",
    "\n",
    "    # Grupy według regionów i wybór top n filmów\n",
    "    top_n_movies_df = valid_movies_df.groupby('region').head(n)\n",
    "\n",
    "    # Obliczanie średniej oceny dla top n filmów w każdym kraju\n",
    "    top_n_ratings_df = top_n_movies_df.groupby('region').agg({\n",
    "        'averageRating': 'mean',\n",
    "        'numVotes': 'sum',\n",
    "        'tconst': 'count'\n",
    "    }).reset_index()\n",
    "\n",
    "    top_n_ratings_df.columns = ['region', 'avg_rating', 'total_votes', 'film_count']\n",
    "    return top_n_ratings_df"
   ],
   "metadata": {
    "collapsed": false,
    "ExecuteTime": {
     "end_time": "2024-05-30T12:55:29.647533Z",
     "start_time": "2024-05-30T12:55:29.617573Z"
    }
   },
   "id": "a5e26e429a462024"
  },
  {
   "cell_type": "code",
   "execution_count": 113,
   "outputs": [],
   "source": [
    "basics_df_processed = filter_years(basics_df, 2010, 2019)"
   ],
   "metadata": {
    "collapsed": false,
    "ExecuteTime": {
     "end_time": "2024-05-30T12:55:38.004970Z",
     "start_time": "2024-05-30T12:55:30.403361Z"
    }
   },
   "id": "a6de9ebe6cb3b027"
  },
  {
   "cell_type": "code",
   "execution_count": 101,
   "outputs": [],
   "source": [
    "akas_df = akas_df[['titleId', 'region']]\n",
    "basics_df_processed = basics_df_processed[['tconst', 'titleType', 'primaryTitle', 'startYear']]\n",
    "ratings_df = ratings_df[['tconst', 'averageRating', 'numVotes']]"
   ],
   "metadata": {
    "collapsed": false,
    "ExecuteTime": {
     "end_time": "2024-05-30T12:48:39.118710Z",
     "start_time": "2024-05-30T12:48:37.662362Z"
    }
   },
   "id": "b29cb0264b8da0cc"
  },
  {
   "cell_type": "code",
   "execution_count": 102,
   "outputs": [],
   "source": [
    "merged_df = merge_data(basics_df_processed, ratings_df, akas_df)\n",
    "\n",
    "movies_df = merged_df[merged_df['titleType'] == 'movie']"
   ],
   "metadata": {
    "collapsed": false,
    "ExecuteTime": {
     "end_time": "2024-05-30T12:49:19.691174Z",
     "start_time": "2024-05-30T12:49:06.756842Z"
    }
   },
   "id": "952854ede294a345"
  },
  {
   "cell_type": "code",
   "execution_count": 105,
   "outputs": [
    {
     "data": {
      "text/plain": "      titleId region     tconst titleType                primaryTitle  \\\n16  tt0069049    NaN  tt0069049     movie  The Other Side of the Wind   \n17  tt0069049     ES  tt0069049     movie  The Other Side of the Wind   \n18  tt0069049     BR  tt0069049     movie  The Other Side of the Wind   \n19  tt0069049     PT  tt0069049     movie  The Other Side of the Wind   \n20  tt0069049     HU  tt0069049     movie  The Other Side of the Wind   \n21  tt0069049     FR  tt0069049     movie  The Other Side of the Wind   \n22  tt0069049     RS  tt0069049     movie  The Other Side of the Wind   \n23  tt0069049     PL  tt0069049     movie  The Other Side of the Wind   \n24  tt0069049     IT  tt0069049     movie  The Other Side of the Wind   \n25  tt0069049     VE  tt0069049     movie  The Other Side of the Wind   \n26  tt0069049     VN  tt0069049     movie  The Other Side of the Wind   \n27  tt0069049     AU  tt0069049     movie  The Other Side of the Wind   \n28  tt0069049     VN  tt0069049     movie  The Other Side of the Wind   \n29  tt0069049     GR  tt0069049     movie  The Other Side of the Wind   \n30  tt0069049     RU  tt0069049     movie  The Other Side of the Wind   \n31  tt0069049     JP  tt0069049     movie  The Other Side of the Wind   \n32  tt0069049     TW  tt0069049     movie  The Other Side of the Wind   \n33  tt0069049     CA  tt0069049     movie  The Other Side of the Wind   \n34  tt0069049     CA  tt0069049     movie  The Other Side of the Wind   \n35  tt0069049     DE  tt0069049     movie  The Other Side of the Wind   \n36  tt0069049     GB  tt0069049     movie  The Other Side of the Wind   \n37  tt0069049     KR  tt0069049     movie  The Other Side of the Wind   \n38  tt0069049     US  tt0069049     movie  The Other Side of the Wind   \n39  tt0069049     AR  tt0069049     movie  The Other Side of the Wind   \n40  tt0100275    NaN  tt0100275     movie    The Wandering Soap Opera   \n41  tt0100275     GB  tt0100275     movie    The Wandering Soap Opera   \n42  tt0100275     US  tt0100275     movie    The Wandering Soap Opera   \n43  tt0100275    XWW  tt0100275     movie    The Wandering Soap Opera   \n44  tt0100275     CL  tt0100275     movie    The Wandering Soap Opera   \n45  tt0100275     ES  tt0100275     movie    The Wandering Soap Opera   \n46  tt0100275     CL  tt0100275     movie    The Wandering Soap Opera   \n47  tt0100275     PL  tt0100275     movie    The Wandering Soap Opera   \n48  tt0108116    NaN  tt0108116     movie        Shepherd on the Rock   \n49  tt0108116     BR  tt0108116     movie        Shepherd on the Rock   \n50  tt0108116     GB  tt0108116     movie        Shepherd on the Rock   \n54  tt0111596    NaN  tt0111596     movie                       Vazir   \n55  tt0111596     FR  tt0111596     movie                       Vazir   \n56  tt0111596     IN  tt0111596     movie                       Vazir   \n57  tt0111596     IN  tt0111596     movie                       Vazir   \n58  tt0112502    NaN  tt0112502     movie                     Bigfoot   \n59  tt0112502     GB  tt0112502     movie                     Bigfoot   \n60  tt0112502     US  tt0112502     movie                     Bigfoot   \n61  tt0116991    NaN  tt0116991     movie         Mariette in Ecstasy   \n62  tt0116991     CA  tt0116991     movie         Mariette in Ecstasy   \n63  tt0116991     GB  tt0116991     movie         Mariette in Ecstasy   \n64  tt0116991     MX  tt0116991     movie         Mariette in Ecstasy   \n65  tt0116991     US  tt0116991     movie         Mariette in Ecstasy   \n75  tt0137204    NaN  tt0137204     movie             Joe Finds Grace   \n76  tt0137204    NaN  tt0137204     movie             Joe Finds Grace   \n77  tt0137204     US  tt0137204     movie             Joe Finds Grace   \n\n    startYear  averageRating  numVotes  \n16     2018.0            6.7      8066  \n17     2018.0            6.7      8066  \n18     2018.0            6.7      8066  \n19     2018.0            6.7      8066  \n20     2018.0            6.7      8066  \n21     2018.0            6.7      8066  \n22     2018.0            6.7      8066  \n23     2018.0            6.7      8066  \n24     2018.0            6.7      8066  \n25     2018.0            6.7      8066  \n26     2018.0            6.7      8066  \n27     2018.0            6.7      8066  \n28     2018.0            6.7      8066  \n29     2018.0            6.7      8066  \n30     2018.0            6.7      8066  \n31     2018.0            6.7      8066  \n32     2018.0            6.7      8066  \n33     2018.0            6.7      8066  \n34     2018.0            6.7      8066  \n35     2018.0            6.7      8066  \n36     2018.0            6.7      8066  \n37     2018.0            6.7      8066  \n38     2018.0            6.7      8066  \n39     2018.0            6.7      8066  \n40     2017.0            6.5       361  \n41     2017.0            6.5       361  \n42     2017.0            6.5       361  \n43     2017.0            6.5       361  \n44     2017.0            6.5       361  \n45     2017.0            6.5       361  \n46     2017.0            6.5       361  \n47     2017.0            6.5       361  \n48     2014.0            5.8        97  \n49     2014.0            5.8        97  \n50     2014.0            5.8        97  \n54     2015.0            8.2        67  \n55     2015.0            8.2        67  \n56     2015.0            8.2        67  \n57     2015.0            8.2        67  \n58     2017.0            4.7        42  \n59     2017.0            4.7        42  \n60     2017.0            4.7        42  \n61     2019.0            7.2        79  \n62     2019.0            7.2        79  \n63     2019.0            7.2        79  \n64     2019.0            7.2        79  \n65     2019.0            7.2        79  \n75     2017.0            8.5       293  \n76     2017.0            8.5       293  \n77     2017.0            8.5       293  ",
      "text/html": "<div>\n<style scoped>\n    .dataframe tbody tr th:only-of-type {\n        vertical-align: middle;\n    }\n\n    .dataframe tbody tr th {\n        vertical-align: top;\n    }\n\n    .dataframe thead th {\n        text-align: right;\n    }\n</style>\n<table border=\"1\" class=\"dataframe\">\n  <thead>\n    <tr style=\"text-align: right;\">\n      <th></th>\n      <th>titleId</th>\n      <th>region</th>\n      <th>tconst</th>\n      <th>titleType</th>\n      <th>primaryTitle</th>\n      <th>startYear</th>\n      <th>averageRating</th>\n      <th>numVotes</th>\n    </tr>\n  </thead>\n  <tbody>\n    <tr>\n      <th>16</th>\n      <td>tt0069049</td>\n      <td>NaN</td>\n      <td>tt0069049</td>\n      <td>movie</td>\n      <td>The Other Side of the Wind</td>\n      <td>2018.0</td>\n      <td>6.7</td>\n      <td>8066</td>\n    </tr>\n    <tr>\n      <th>17</th>\n      <td>tt0069049</td>\n      <td>ES</td>\n      <td>tt0069049</td>\n      <td>movie</td>\n      <td>The Other Side of the Wind</td>\n      <td>2018.0</td>\n      <td>6.7</td>\n      <td>8066</td>\n    </tr>\n    <tr>\n      <th>18</th>\n      <td>tt0069049</td>\n      <td>BR</td>\n      <td>tt0069049</td>\n      <td>movie</td>\n      <td>The Other Side of the Wind</td>\n      <td>2018.0</td>\n      <td>6.7</td>\n      <td>8066</td>\n    </tr>\n    <tr>\n      <th>19</th>\n      <td>tt0069049</td>\n      <td>PT</td>\n      <td>tt0069049</td>\n      <td>movie</td>\n      <td>The Other Side of the Wind</td>\n      <td>2018.0</td>\n      <td>6.7</td>\n      <td>8066</td>\n    </tr>\n    <tr>\n      <th>20</th>\n      <td>tt0069049</td>\n      <td>HU</td>\n      <td>tt0069049</td>\n      <td>movie</td>\n      <td>The Other Side of the Wind</td>\n      <td>2018.0</td>\n      <td>6.7</td>\n      <td>8066</td>\n    </tr>\n    <tr>\n      <th>21</th>\n      <td>tt0069049</td>\n      <td>FR</td>\n      <td>tt0069049</td>\n      <td>movie</td>\n      <td>The Other Side of the Wind</td>\n      <td>2018.0</td>\n      <td>6.7</td>\n      <td>8066</td>\n    </tr>\n    <tr>\n      <th>22</th>\n      <td>tt0069049</td>\n      <td>RS</td>\n      <td>tt0069049</td>\n      <td>movie</td>\n      <td>The Other Side of the Wind</td>\n      <td>2018.0</td>\n      <td>6.7</td>\n      <td>8066</td>\n    </tr>\n    <tr>\n      <th>23</th>\n      <td>tt0069049</td>\n      <td>PL</td>\n      <td>tt0069049</td>\n      <td>movie</td>\n      <td>The Other Side of the Wind</td>\n      <td>2018.0</td>\n      <td>6.7</td>\n      <td>8066</td>\n    </tr>\n    <tr>\n      <th>24</th>\n      <td>tt0069049</td>\n      <td>IT</td>\n      <td>tt0069049</td>\n      <td>movie</td>\n      <td>The Other Side of the Wind</td>\n      <td>2018.0</td>\n      <td>6.7</td>\n      <td>8066</td>\n    </tr>\n    <tr>\n      <th>25</th>\n      <td>tt0069049</td>\n      <td>VE</td>\n      <td>tt0069049</td>\n      <td>movie</td>\n      <td>The Other Side of the Wind</td>\n      <td>2018.0</td>\n      <td>6.7</td>\n      <td>8066</td>\n    </tr>\n    <tr>\n      <th>26</th>\n      <td>tt0069049</td>\n      <td>VN</td>\n      <td>tt0069049</td>\n      <td>movie</td>\n      <td>The Other Side of the Wind</td>\n      <td>2018.0</td>\n      <td>6.7</td>\n      <td>8066</td>\n    </tr>\n    <tr>\n      <th>27</th>\n      <td>tt0069049</td>\n      <td>AU</td>\n      <td>tt0069049</td>\n      <td>movie</td>\n      <td>The Other Side of the Wind</td>\n      <td>2018.0</td>\n      <td>6.7</td>\n      <td>8066</td>\n    </tr>\n    <tr>\n      <th>28</th>\n      <td>tt0069049</td>\n      <td>VN</td>\n      <td>tt0069049</td>\n      <td>movie</td>\n      <td>The Other Side of the Wind</td>\n      <td>2018.0</td>\n      <td>6.7</td>\n      <td>8066</td>\n    </tr>\n    <tr>\n      <th>29</th>\n      <td>tt0069049</td>\n      <td>GR</td>\n      <td>tt0069049</td>\n      <td>movie</td>\n      <td>The Other Side of the Wind</td>\n      <td>2018.0</td>\n      <td>6.7</td>\n      <td>8066</td>\n    </tr>\n    <tr>\n      <th>30</th>\n      <td>tt0069049</td>\n      <td>RU</td>\n      <td>tt0069049</td>\n      <td>movie</td>\n      <td>The Other Side of the Wind</td>\n      <td>2018.0</td>\n      <td>6.7</td>\n      <td>8066</td>\n    </tr>\n    <tr>\n      <th>31</th>\n      <td>tt0069049</td>\n      <td>JP</td>\n      <td>tt0069049</td>\n      <td>movie</td>\n      <td>The Other Side of the Wind</td>\n      <td>2018.0</td>\n      <td>6.7</td>\n      <td>8066</td>\n    </tr>\n    <tr>\n      <th>32</th>\n      <td>tt0069049</td>\n      <td>TW</td>\n      <td>tt0069049</td>\n      <td>movie</td>\n      <td>The Other Side of the Wind</td>\n      <td>2018.0</td>\n      <td>6.7</td>\n      <td>8066</td>\n    </tr>\n    <tr>\n      <th>33</th>\n      <td>tt0069049</td>\n      <td>CA</td>\n      <td>tt0069049</td>\n      <td>movie</td>\n      <td>The Other Side of the Wind</td>\n      <td>2018.0</td>\n      <td>6.7</td>\n      <td>8066</td>\n    </tr>\n    <tr>\n      <th>34</th>\n      <td>tt0069049</td>\n      <td>CA</td>\n      <td>tt0069049</td>\n      <td>movie</td>\n      <td>The Other Side of the Wind</td>\n      <td>2018.0</td>\n      <td>6.7</td>\n      <td>8066</td>\n    </tr>\n    <tr>\n      <th>35</th>\n      <td>tt0069049</td>\n      <td>DE</td>\n      <td>tt0069049</td>\n      <td>movie</td>\n      <td>The Other Side of the Wind</td>\n      <td>2018.0</td>\n      <td>6.7</td>\n      <td>8066</td>\n    </tr>\n    <tr>\n      <th>36</th>\n      <td>tt0069049</td>\n      <td>GB</td>\n      <td>tt0069049</td>\n      <td>movie</td>\n      <td>The Other Side of the Wind</td>\n      <td>2018.0</td>\n      <td>6.7</td>\n      <td>8066</td>\n    </tr>\n    <tr>\n      <th>37</th>\n      <td>tt0069049</td>\n      <td>KR</td>\n      <td>tt0069049</td>\n      <td>movie</td>\n      <td>The Other Side of the Wind</td>\n      <td>2018.0</td>\n      <td>6.7</td>\n      <td>8066</td>\n    </tr>\n    <tr>\n      <th>38</th>\n      <td>tt0069049</td>\n      <td>US</td>\n      <td>tt0069049</td>\n      <td>movie</td>\n      <td>The Other Side of the Wind</td>\n      <td>2018.0</td>\n      <td>6.7</td>\n      <td>8066</td>\n    </tr>\n    <tr>\n      <th>39</th>\n      <td>tt0069049</td>\n      <td>AR</td>\n      <td>tt0069049</td>\n      <td>movie</td>\n      <td>The Other Side of the Wind</td>\n      <td>2018.0</td>\n      <td>6.7</td>\n      <td>8066</td>\n    </tr>\n    <tr>\n      <th>40</th>\n      <td>tt0100275</td>\n      <td>NaN</td>\n      <td>tt0100275</td>\n      <td>movie</td>\n      <td>The Wandering Soap Opera</td>\n      <td>2017.0</td>\n      <td>6.5</td>\n      <td>361</td>\n    </tr>\n    <tr>\n      <th>41</th>\n      <td>tt0100275</td>\n      <td>GB</td>\n      <td>tt0100275</td>\n      <td>movie</td>\n      <td>The Wandering Soap Opera</td>\n      <td>2017.0</td>\n      <td>6.5</td>\n      <td>361</td>\n    </tr>\n    <tr>\n      <th>42</th>\n      <td>tt0100275</td>\n      <td>US</td>\n      <td>tt0100275</td>\n      <td>movie</td>\n      <td>The Wandering Soap Opera</td>\n      <td>2017.0</td>\n      <td>6.5</td>\n      <td>361</td>\n    </tr>\n    <tr>\n      <th>43</th>\n      <td>tt0100275</td>\n      <td>XWW</td>\n      <td>tt0100275</td>\n      <td>movie</td>\n      <td>The Wandering Soap Opera</td>\n      <td>2017.0</td>\n      <td>6.5</td>\n      <td>361</td>\n    </tr>\n    <tr>\n      <th>44</th>\n      <td>tt0100275</td>\n      <td>CL</td>\n      <td>tt0100275</td>\n      <td>movie</td>\n      <td>The Wandering Soap Opera</td>\n      <td>2017.0</td>\n      <td>6.5</td>\n      <td>361</td>\n    </tr>\n    <tr>\n      <th>45</th>\n      <td>tt0100275</td>\n      <td>ES</td>\n      <td>tt0100275</td>\n      <td>movie</td>\n      <td>The Wandering Soap Opera</td>\n      <td>2017.0</td>\n      <td>6.5</td>\n      <td>361</td>\n    </tr>\n    <tr>\n      <th>46</th>\n      <td>tt0100275</td>\n      <td>CL</td>\n      <td>tt0100275</td>\n      <td>movie</td>\n      <td>The Wandering Soap Opera</td>\n      <td>2017.0</td>\n      <td>6.5</td>\n      <td>361</td>\n    </tr>\n    <tr>\n      <th>47</th>\n      <td>tt0100275</td>\n      <td>PL</td>\n      <td>tt0100275</td>\n      <td>movie</td>\n      <td>The Wandering Soap Opera</td>\n      <td>2017.0</td>\n      <td>6.5</td>\n      <td>361</td>\n    </tr>\n    <tr>\n      <th>48</th>\n      <td>tt0108116</td>\n      <td>NaN</td>\n      <td>tt0108116</td>\n      <td>movie</td>\n      <td>Shepherd on the Rock</td>\n      <td>2014.0</td>\n      <td>5.8</td>\n      <td>97</td>\n    </tr>\n    <tr>\n      <th>49</th>\n      <td>tt0108116</td>\n      <td>BR</td>\n      <td>tt0108116</td>\n      <td>movie</td>\n      <td>Shepherd on the Rock</td>\n      <td>2014.0</td>\n      <td>5.8</td>\n      <td>97</td>\n    </tr>\n    <tr>\n      <th>50</th>\n      <td>tt0108116</td>\n      <td>GB</td>\n      <td>tt0108116</td>\n      <td>movie</td>\n      <td>Shepherd on the Rock</td>\n      <td>2014.0</td>\n      <td>5.8</td>\n      <td>97</td>\n    </tr>\n    <tr>\n      <th>54</th>\n      <td>tt0111596</td>\n      <td>NaN</td>\n      <td>tt0111596</td>\n      <td>movie</td>\n      <td>Vazir</td>\n      <td>2015.0</td>\n      <td>8.2</td>\n      <td>67</td>\n    </tr>\n    <tr>\n      <th>55</th>\n      <td>tt0111596</td>\n      <td>FR</td>\n      <td>tt0111596</td>\n      <td>movie</td>\n      <td>Vazir</td>\n      <td>2015.0</td>\n      <td>8.2</td>\n      <td>67</td>\n    </tr>\n    <tr>\n      <th>56</th>\n      <td>tt0111596</td>\n      <td>IN</td>\n      <td>tt0111596</td>\n      <td>movie</td>\n      <td>Vazir</td>\n      <td>2015.0</td>\n      <td>8.2</td>\n      <td>67</td>\n    </tr>\n    <tr>\n      <th>57</th>\n      <td>tt0111596</td>\n      <td>IN</td>\n      <td>tt0111596</td>\n      <td>movie</td>\n      <td>Vazir</td>\n      <td>2015.0</td>\n      <td>8.2</td>\n      <td>67</td>\n    </tr>\n    <tr>\n      <th>58</th>\n      <td>tt0112502</td>\n      <td>NaN</td>\n      <td>tt0112502</td>\n      <td>movie</td>\n      <td>Bigfoot</td>\n      <td>2017.0</td>\n      <td>4.7</td>\n      <td>42</td>\n    </tr>\n    <tr>\n      <th>59</th>\n      <td>tt0112502</td>\n      <td>GB</td>\n      <td>tt0112502</td>\n      <td>movie</td>\n      <td>Bigfoot</td>\n      <td>2017.0</td>\n      <td>4.7</td>\n      <td>42</td>\n    </tr>\n    <tr>\n      <th>60</th>\n      <td>tt0112502</td>\n      <td>US</td>\n      <td>tt0112502</td>\n      <td>movie</td>\n      <td>Bigfoot</td>\n      <td>2017.0</td>\n      <td>4.7</td>\n      <td>42</td>\n    </tr>\n    <tr>\n      <th>61</th>\n      <td>tt0116991</td>\n      <td>NaN</td>\n      <td>tt0116991</td>\n      <td>movie</td>\n      <td>Mariette in Ecstasy</td>\n      <td>2019.0</td>\n      <td>7.2</td>\n      <td>79</td>\n    </tr>\n    <tr>\n      <th>62</th>\n      <td>tt0116991</td>\n      <td>CA</td>\n      <td>tt0116991</td>\n      <td>movie</td>\n      <td>Mariette in Ecstasy</td>\n      <td>2019.0</td>\n      <td>7.2</td>\n      <td>79</td>\n    </tr>\n    <tr>\n      <th>63</th>\n      <td>tt0116991</td>\n      <td>GB</td>\n      <td>tt0116991</td>\n      <td>movie</td>\n      <td>Mariette in Ecstasy</td>\n      <td>2019.0</td>\n      <td>7.2</td>\n      <td>79</td>\n    </tr>\n    <tr>\n      <th>64</th>\n      <td>tt0116991</td>\n      <td>MX</td>\n      <td>tt0116991</td>\n      <td>movie</td>\n      <td>Mariette in Ecstasy</td>\n      <td>2019.0</td>\n      <td>7.2</td>\n      <td>79</td>\n    </tr>\n    <tr>\n      <th>65</th>\n      <td>tt0116991</td>\n      <td>US</td>\n      <td>tt0116991</td>\n      <td>movie</td>\n      <td>Mariette in Ecstasy</td>\n      <td>2019.0</td>\n      <td>7.2</td>\n      <td>79</td>\n    </tr>\n    <tr>\n      <th>75</th>\n      <td>tt0137204</td>\n      <td>NaN</td>\n      <td>tt0137204</td>\n      <td>movie</td>\n      <td>Joe Finds Grace</td>\n      <td>2017.0</td>\n      <td>8.5</td>\n      <td>293</td>\n    </tr>\n    <tr>\n      <th>76</th>\n      <td>tt0137204</td>\n      <td>NaN</td>\n      <td>tt0137204</td>\n      <td>movie</td>\n      <td>Joe Finds Grace</td>\n      <td>2017.0</td>\n      <td>8.5</td>\n      <td>293</td>\n    </tr>\n    <tr>\n      <th>77</th>\n      <td>tt0137204</td>\n      <td>US</td>\n      <td>tt0137204</td>\n      <td>movie</td>\n      <td>Joe Finds Grace</td>\n      <td>2017.0</td>\n      <td>8.5</td>\n      <td>293</td>\n    </tr>\n  </tbody>\n</table>\n</div>"
     },
     "execution_count": 105,
     "metadata": {},
     "output_type": "execute_result"
    }
   ],
   "source": [
    "movies_df.head(50)"
   ],
   "metadata": {
    "collapsed": false,
    "ExecuteTime": {
     "end_time": "2024-05-30T12:50:20.546663Z",
     "start_time": "2024-05-30T12:50:20.541311Z"
    }
   },
   "id": "fb44be6de390b63"
  },
  {
   "cell_type": "code",
   "execution_count": 111,
   "outputs": [
    {
     "ename": "IndexError",
     "evalue": "Too many levels: Index has only 1 level, not 2",
     "output_type": "error",
     "traceback": [
      "\u001B[0;31m---------------------------------------------------------------------------\u001B[0m",
      "\u001B[0;31mIndexError\u001B[0m                                Traceback (most recent call last)",
      "Cell \u001B[0;32mIn[111], line 2\u001B[0m\n\u001B[1;32m      1\u001B[0m \u001B[38;5;28;01mfor\u001B[39;00m n \u001B[38;5;129;01min\u001B[39;00m [\u001B[38;5;241m10\u001B[39m, \u001B[38;5;241m20\u001B[39m, \u001B[38;5;241m50\u001B[39m, \u001B[38;5;241m100\u001B[39m, \u001B[38;5;241m200\u001B[39m]:\n\u001B[0;32m----> 2\u001B[0m         top_n_ratings_df \u001B[38;5;241m=\u001B[39m \u001B[43mget_top_n_movies_per_country\u001B[49m\u001B[43m(\u001B[49m\u001B[43mmovies_df\u001B[49m\u001B[43m,\u001B[49m\u001B[43m \u001B[49m\u001B[43mn\u001B[49m\u001B[43m)\u001B[49m\n\u001B[1;32m      3\u001B[0m         top_n_ratings_df \u001B[38;5;241m=\u001B[39m top_n_ratings_df\u001B[38;5;241m.\u001B[39msort_values(by\u001B[38;5;241m=\u001B[39m\u001B[38;5;124m'\u001B[39m\u001B[38;5;124mavg_rating\u001B[39m\u001B[38;5;124m'\u001B[39m, ascending\u001B[38;5;241m=\u001B[39m\u001B[38;5;28;01mFalse\u001B[39;00m)\n\u001B[1;32m      4\u001B[0m         \u001B[38;5;28mprint\u001B[39m(\u001B[38;5;124mf\u001B[39m\u001B[38;5;124m\"\u001B[39m\u001B[38;5;124mTop \u001B[39m\u001B[38;5;132;01m{\u001B[39;00mn\u001B[38;5;132;01m}\u001B[39;00m\u001B[38;5;124m countries based on top \u001B[39m\u001B[38;5;132;01m{\u001B[39;00mn\u001B[38;5;132;01m}\u001B[39;00m\u001B[38;5;124m movies:\u001B[39m\u001B[38;5;124m\"\u001B[39m)\n",
      "Cell \u001B[0;32mIn[110], line 20\u001B[0m, in \u001B[0;36mget_top_n_movies_per_country\u001B[0;34m(movies_df, n)\u001B[0m\n\u001B[1;32m     13\u001B[0m top_n_movies_df \u001B[38;5;241m=\u001B[39m valid_movies_df\u001B[38;5;241m.\u001B[39mgroupby(\u001B[38;5;124m'\u001B[39m\u001B[38;5;124mregion\u001B[39m\u001B[38;5;124m'\u001B[39m)\u001B[38;5;241m.\u001B[39mhead(n)\n\u001B[1;32m     15\u001B[0m \u001B[38;5;66;03m# Obliczanie średniej oceny dla top n filmów w każdym kraju\u001B[39;00m\n\u001B[1;32m     16\u001B[0m top_n_ratings_df \u001B[38;5;241m=\u001B[39m \u001B[43mtop_n_movies_df\u001B[49m\u001B[38;5;241;43m.\u001B[39;49m\u001B[43mgroupby\u001B[49m\u001B[43m(\u001B[49m\u001B[38;5;124;43m'\u001B[39;49m\u001B[38;5;124;43mregion\u001B[39;49m\u001B[38;5;124;43m'\u001B[39;49m\u001B[43m)\u001B[49m\u001B[38;5;241;43m.\u001B[39;49m\u001B[43magg\u001B[49m\u001B[43m(\u001B[49m\u001B[43m{\u001B[49m\n\u001B[1;32m     17\u001B[0m \u001B[43m    \u001B[49m\u001B[38;5;124;43m'\u001B[39;49m\u001B[38;5;124;43maverageRating\u001B[39;49m\u001B[38;5;124;43m'\u001B[39;49m\u001B[43m:\u001B[49m\u001B[43m \u001B[49m\u001B[38;5;124;43m'\u001B[39;49m\u001B[38;5;124;43mmean\u001B[39;49m\u001B[38;5;124;43m'\u001B[39;49m\u001B[43m,\u001B[49m\n\u001B[1;32m     18\u001B[0m \u001B[43m    \u001B[49m\u001B[38;5;124;43m'\u001B[39;49m\u001B[38;5;124;43mnumVotes\u001B[39;49m\u001B[38;5;124;43m'\u001B[39;49m\u001B[43m:\u001B[49m\u001B[43m \u001B[49m\u001B[38;5;124;43m'\u001B[39;49m\u001B[38;5;124;43msum\u001B[39;49m\u001B[38;5;124;43m'\u001B[39;49m\u001B[43m,\u001B[49m\n\u001B[1;32m     19\u001B[0m \u001B[43m    \u001B[49m\u001B[38;5;124;43m'\u001B[39;49m\u001B[38;5;124;43mtconst\u001B[39;49m\u001B[38;5;124;43m'\u001B[39;49m\u001B[43m:\u001B[49m\u001B[43m \u001B[49m\u001B[38;5;124;43m'\u001B[39;49m\u001B[38;5;124;43mcount\u001B[39;49m\u001B[38;5;124;43m'\u001B[39;49m\n\u001B[0;32m---> 20\u001B[0m \u001B[43m\u001B[49m\u001B[43m}\u001B[49m\u001B[43m)\u001B[49m\u001B[38;5;241;43m.\u001B[39;49m\u001B[43mreset_index\u001B[49m\u001B[43m(\u001B[49m\u001B[38;5;28;43;01mTrue\u001B[39;49;00m\u001B[43m)\u001B[49m\n\u001B[1;32m     22\u001B[0m top_n_ratings_df\u001B[38;5;241m.\u001B[39mcolumns \u001B[38;5;241m=\u001B[39m [\u001B[38;5;124m'\u001B[39m\u001B[38;5;124mregion\u001B[39m\u001B[38;5;124m'\u001B[39m, \u001B[38;5;124m'\u001B[39m\u001B[38;5;124mavg_rating\u001B[39m\u001B[38;5;124m'\u001B[39m, \u001B[38;5;124m'\u001B[39m\u001B[38;5;124mtotal_votes\u001B[39m\u001B[38;5;124m'\u001B[39m, \u001B[38;5;124m'\u001B[39m\u001B[38;5;124mfilm_count\u001B[39m\u001B[38;5;124m'\u001B[39m]\n\u001B[1;32m     23\u001B[0m \u001B[38;5;28;01mreturn\u001B[39;00m top_n_ratings_df\n",
      "File \u001B[0;32m~/Studies/project/film_ranking/venv/lib/python3.12/site-packages/pandas/core/frame.py:6162\u001B[0m, in \u001B[0;36mDataFrame.reset_index\u001B[0;34m(self, level, drop, inplace, col_level, col_fill, allow_duplicates, names)\u001B[0m\n\u001B[1;32m   6160\u001B[0m \u001B[38;5;28;01mif\u001B[39;00m \u001B[38;5;129;01mnot\u001B[39;00m \u001B[38;5;28misinstance\u001B[39m(level, (\u001B[38;5;28mtuple\u001B[39m, \u001B[38;5;28mlist\u001B[39m)):\n\u001B[1;32m   6161\u001B[0m     level \u001B[38;5;241m=\u001B[39m [level]\n\u001B[0;32m-> 6162\u001B[0m level \u001B[38;5;241m=\u001B[39m [\u001B[38;5;28;43mself\u001B[39;49m\u001B[38;5;241;43m.\u001B[39;49m\u001B[43mindex\u001B[49m\u001B[38;5;241;43m.\u001B[39;49m\u001B[43m_get_level_number\u001B[49m\u001B[43m(\u001B[49m\u001B[43mlev\u001B[49m\u001B[43m)\u001B[49m \u001B[38;5;28;01mfor\u001B[39;00m lev \u001B[38;5;129;01min\u001B[39;00m level]\n\u001B[1;32m   6163\u001B[0m \u001B[38;5;28;01mif\u001B[39;00m \u001B[38;5;28mlen\u001B[39m(level) \u001B[38;5;241m<\u001B[39m \u001B[38;5;28mself\u001B[39m\u001B[38;5;241m.\u001B[39mindex\u001B[38;5;241m.\u001B[39mnlevels:\n\u001B[1;32m   6164\u001B[0m     new_index \u001B[38;5;241m=\u001B[39m \u001B[38;5;28mself\u001B[39m\u001B[38;5;241m.\u001B[39mindex\u001B[38;5;241m.\u001B[39mdroplevel(level)\n",
      "File \u001B[0;32m~/Studies/project/film_ranking/venv/lib/python3.12/site-packages/pandas/core/indexes/base.py:1915\u001B[0m, in \u001B[0;36mIndex._get_level_number\u001B[0;34m(self, level)\u001B[0m\n\u001B[1;32m   1914\u001B[0m \u001B[38;5;28;01mdef\u001B[39;00m \u001B[38;5;21m_get_level_number\u001B[39m(\u001B[38;5;28mself\u001B[39m, level) \u001B[38;5;241m-\u001B[39m\u001B[38;5;241m>\u001B[39m \u001B[38;5;28mint\u001B[39m:\n\u001B[0;32m-> 1915\u001B[0m     \u001B[38;5;28;43mself\u001B[39;49m\u001B[38;5;241;43m.\u001B[39;49m\u001B[43m_validate_index_level\u001B[49m\u001B[43m(\u001B[49m\u001B[43mlevel\u001B[49m\u001B[43m)\u001B[49m\n\u001B[1;32m   1916\u001B[0m     \u001B[38;5;28;01mreturn\u001B[39;00m \u001B[38;5;241m0\u001B[39m\n",
      "File \u001B[0;32m~/Studies/project/film_ranking/venv/lib/python3.12/site-packages/pandas/core/indexes/base.py:1906\u001B[0m, in \u001B[0;36mIndex._validate_index_level\u001B[0;34m(self, level)\u001B[0m\n\u001B[1;32m   1901\u001B[0m         \u001B[38;5;28;01mraise\u001B[39;00m \u001B[38;5;167;01mIndexError\u001B[39;00m(\n\u001B[1;32m   1902\u001B[0m             \u001B[38;5;124m\"\u001B[39m\u001B[38;5;124mToo many levels: Index has only 1 level, \u001B[39m\u001B[38;5;124m\"\u001B[39m\n\u001B[1;32m   1903\u001B[0m             \u001B[38;5;124mf\u001B[39m\u001B[38;5;124m\"\u001B[39m\u001B[38;5;132;01m{\u001B[39;00mlevel\u001B[38;5;132;01m}\u001B[39;00m\u001B[38;5;124m is not a valid level number\u001B[39m\u001B[38;5;124m\"\u001B[39m\n\u001B[1;32m   1904\u001B[0m         )\n\u001B[1;32m   1905\u001B[0m     \u001B[38;5;28;01mif\u001B[39;00m level \u001B[38;5;241m>\u001B[39m \u001B[38;5;241m0\u001B[39m:\n\u001B[0;32m-> 1906\u001B[0m         \u001B[38;5;28;01mraise\u001B[39;00m \u001B[38;5;167;01mIndexError\u001B[39;00m(\n\u001B[1;32m   1907\u001B[0m             \u001B[38;5;124mf\u001B[39m\u001B[38;5;124m\"\u001B[39m\u001B[38;5;124mToo many levels: Index has only 1 level, not \u001B[39m\u001B[38;5;132;01m{\u001B[39;00mlevel\u001B[38;5;250m \u001B[39m\u001B[38;5;241m+\u001B[39m\u001B[38;5;250m \u001B[39m\u001B[38;5;241m1\u001B[39m\u001B[38;5;132;01m}\u001B[39;00m\u001B[38;5;124m\"\u001B[39m\n\u001B[1;32m   1908\u001B[0m         )\n\u001B[1;32m   1909\u001B[0m \u001B[38;5;28;01melif\u001B[39;00m level \u001B[38;5;241m!=\u001B[39m \u001B[38;5;28mself\u001B[39m\u001B[38;5;241m.\u001B[39mname:\n\u001B[1;32m   1910\u001B[0m     \u001B[38;5;28;01mraise\u001B[39;00m \u001B[38;5;167;01mKeyError\u001B[39;00m(\n\u001B[1;32m   1911\u001B[0m         \u001B[38;5;124mf\u001B[39m\u001B[38;5;124m\"\u001B[39m\u001B[38;5;124mRequested level (\u001B[39m\u001B[38;5;132;01m{\u001B[39;00mlevel\u001B[38;5;132;01m}\u001B[39;00m\u001B[38;5;124m) does not match index name (\u001B[39m\u001B[38;5;132;01m{\u001B[39;00m\u001B[38;5;28mself\u001B[39m\u001B[38;5;241m.\u001B[39mname\u001B[38;5;132;01m}\u001B[39;00m\u001B[38;5;124m)\u001B[39m\u001B[38;5;124m\"\u001B[39m\n\u001B[1;32m   1912\u001B[0m     )\n",
      "\u001B[0;31mIndexError\u001B[0m: Too many levels: Index has only 1 level, not 2"
     ]
    }
   ],
   "source": [
    "for n in [10, 20, 50, 100, 200]:\n",
    "        top_n_ratings_df = get_top_n_movies_per_country(movies_df, n)\n",
    "        top_n_ratings_df = top_n_ratings_df.sort_values(by='avg_rating', ascending=False)\n",
    "        print(f\"Top {n} countries based on top {n} movies:\")\n",
    "        print(top_n_ratings_df.head(10))"
   ],
   "metadata": {
    "collapsed": false,
    "ExecuteTime": {
     "end_time": "2024-05-30T12:55:02.163021Z",
     "start_time": "2024-05-30T12:55:01.096337Z"
    }
   },
   "id": "fd0e660eee02b3f2"
  },
  {
   "cell_type": "code",
   "execution_count": 96,
   "outputs": [
    {
     "data": {
      "text/plain": "['DM',\n 'IM',\n 'SL',\n 'OM',\n 'ZW',\n 'UG',\n 'RW',\n 'AN',\n 'MH',\n 'TZ',\n 'NC',\n 'ET',\n 'QA',\n 'TN',\n 'MV',\n 'MG',\n 'ER',\n 'DDDE',\n 'XPI',\n 'JO']"
     },
     "execution_count": 96,
     "metadata": {},
     "output_type": "execute_result"
    }
   ],
   "source": [
    "top_20_countries = get_top_n(res, 20)\n",
    "top_20_countries"
   ],
   "metadata": {
    "collapsed": false,
    "ExecuteTime": {
     "end_time": "2024-05-30T12:40:28.528429Z",
     "start_time": "2024-05-30T12:40:28.525260Z"
    }
   },
   "id": "89f4b1527424d962"
  },
  {
   "cell_type": "code",
   "execution_count": null,
   "outputs": [],
   "source": [
    "# akas_df = akas_df[['titleId', 'region']]\n",
    "# basics_df = basics_df[['tconst', 'titleType', 'primaryTitle', 'startYear']]\n",
    "# \n",
    "# merged_df = akas_df.merge(basics_df, left_on='titleId', right_on='tconst')\n",
    "# merged_df = merged_df.merge(ratings_df, on='tconst')\n",
    "# \n",
    "# movies_df = merged_df[merged_df['titleType'] == 'movie']\n",
    "\n"
   ],
   "metadata": {
    "collapsed": false
   },
   "id": "c43276853b835f1c"
  },
  {
   "cell_type": "code",
   "execution_count": null,
   "outputs": [],
   "source": [],
   "metadata": {
    "collapsed": false
   },
   "id": "f01fa376c51e655d"
  },
  {
   "cell_type": "code",
   "execution_count": 55,
   "outputs": [],
   "source": [
    "# def process_data_analysis1(basis_data, akas_data, ratings_data, start, end):\n",
    "#     films = basis_data[basis_data['titleType'] == 'movie']\n",
    "#     films_selected_cols = films.filter(items=['primaryTitle', 'startYear', 'runtimeMinutes', 'genres'])\n",
    "#     films_selected_cols.dropna(subset=['startYear'], inplace=True)\n",
    "#     films_selected_cols['startYear'] = films_selected_cols['startYear'].astype(int)\n",
    "#     films_processed = films_selected_cols[(films_selected_cols['startYear'] >= start) & (films_selected_cols['startYear'] <= end)]\n",
    "#     \n",
    "#     print(len(films_processed))\n",
    "#     \n",
    "#     akas_data = akas_data[akas_data['isOriginalTitle'] == 1]\n",
    "#     akas_selected_cols = akas_data.filter(items=['region'])\n",
    "#     \n",
    "#     print(len(akas_selected_cols))\n",
    "#     \n",
    "#     print(len(ratings_data))\n",
    "#     merged_data = pd.merge(films_processed, akas_selected_cols, left_index=True, right_index=True)\n",
    "# \n",
    "#     merged_data = pd.merge(merged_data, ratings_data, left_index=True, right_index=True)\n",
    "#     \n",
    "#     print(len(merged_data))\n",
    "#     \n",
    "#     merged_data.dropna(subset=['region', 'averageRating'], inplace=True)\n",
    "#     \n",
    "#     print(len(merged_data))\n",
    "    \n",
    "    # return merged_data"
   ],
   "metadata": {
    "collapsed": false,
    "ExecuteTime": {
     "end_time": "2024-05-30T12:05:28.369891Z",
     "start_time": "2024-05-30T12:05:28.362576Z"
    }
   },
   "id": "5c0e92666d56ce38"
  },
  {
   "cell_type": "code",
   "execution_count": 114,
   "outputs": [],
   "source": [
    "import data_analysis.data_processing as dp\n",
    "from data_analysis.analysis import perform_task_1"
   ],
   "metadata": {
    "collapsed": false,
    "ExecuteTime": {
     "end_time": "2024-05-30T13:37:43.839692Z",
     "start_time": "2024-05-30T13:37:43.825148Z"
    }
   },
   "id": "4041ae34ea8e1616"
  },
  {
   "cell_type": "code",
   "execution_count": 115,
   "outputs": [],
   "source": [
    "basics = dp.load_data('./data/title.basics.tsv')\n",
    "akas = dp.load_data('./data/title.akas.tsv')\n",
    "ratings = dp.load_data('./data/title.ratings.tsv')"
   ],
   "metadata": {
    "collapsed": false,
    "ExecuteTime": {
     "end_time": "2024-05-30T13:40:38.195953Z",
     "start_time": "2024-05-30T13:38:05.690887Z"
    }
   },
   "id": "9df50a81c0afd3bc"
  },
  {
   "cell_type": "code",
   "execution_count": 121,
   "outputs": [],
   "source": [
    "akas_selected, basis_selected, ratings_selected = dp.keep_interesting_columns(basics, ratings, akas)"
   ],
   "metadata": {
    "collapsed": false,
    "ExecuteTime": {
     "end_time": "2024-05-30T13:53:33.837796Z",
     "start_time": "2024-05-30T13:53:24.959487Z"
    }
   },
   "id": "cf463e95959c6bab"
  },
  {
   "cell_type": "code",
   "execution_count": 122,
   "outputs": [
    {
     "data": {
      "text/plain": "      tconst titleType            primaryTitle  startYear\n0  tt0000001     short              Carmencita     1894.0\n1  tt0000002     short  Le clown et ses chiens     1892.0\n2  tt0000003     short          Pauvre Pierrot     1892.0\n3  tt0000004     short             Un bon bock     1892.0\n4  tt0000005     short        Blacksmith Scene     1893.0",
      "text/html": "<div>\n<style scoped>\n    .dataframe tbody tr th:only-of-type {\n        vertical-align: middle;\n    }\n\n    .dataframe tbody tr th {\n        vertical-align: top;\n    }\n\n    .dataframe thead th {\n        text-align: right;\n    }\n</style>\n<table border=\"1\" class=\"dataframe\">\n  <thead>\n    <tr style=\"text-align: right;\">\n      <th></th>\n      <th>tconst</th>\n      <th>titleType</th>\n      <th>primaryTitle</th>\n      <th>startYear</th>\n    </tr>\n  </thead>\n  <tbody>\n    <tr>\n      <th>0</th>\n      <td>tt0000001</td>\n      <td>short</td>\n      <td>Carmencita</td>\n      <td>1894.0</td>\n    </tr>\n    <tr>\n      <th>1</th>\n      <td>tt0000002</td>\n      <td>short</td>\n      <td>Le clown et ses chiens</td>\n      <td>1892.0</td>\n    </tr>\n    <tr>\n      <th>2</th>\n      <td>tt0000003</td>\n      <td>short</td>\n      <td>Pauvre Pierrot</td>\n      <td>1892.0</td>\n    </tr>\n    <tr>\n      <th>3</th>\n      <td>tt0000004</td>\n      <td>short</td>\n      <td>Un bon bock</td>\n      <td>1892.0</td>\n    </tr>\n    <tr>\n      <th>4</th>\n      <td>tt0000005</td>\n      <td>short</td>\n      <td>Blacksmith Scene</td>\n      <td>1893.0</td>\n    </tr>\n  </tbody>\n</table>\n</div>"
     },
     "execution_count": 122,
     "metadata": {},
     "output_type": "execute_result"
    }
   ],
   "source": [
    "basis_selected.head()"
   ],
   "metadata": {
    "collapsed": false,
    "ExecuteTime": {
     "end_time": "2024-05-30T13:53:33.847996Z",
     "start_time": "2024-05-30T13:53:33.843071Z"
    }
   },
   "id": "55d77531d1e1b38e"
  },
  {
   "cell_type": "code",
   "execution_count": 123,
   "outputs": [],
   "source": [
    "basis_filtered = dp.filter_years(basis_selected, 2000, 2020)"
   ],
   "metadata": {
    "collapsed": false,
    "ExecuteTime": {
     "end_time": "2024-05-30T13:53:48.104907Z",
     "start_time": "2024-05-30T13:53:37.892065Z"
    }
   },
   "id": "4b7ff59edc7b695d"
  },
  {
   "cell_type": "code",
   "execution_count": 124,
   "outputs": [],
   "source": [
    "merged_data = dp.merge_data(basis_filtered, ratings_selected, akas_selected)\n",
    "merged_data = merged_data[merged_data['titleType'] == 'movie']"
   ],
   "metadata": {
    "collapsed": false,
    "ExecuteTime": {
     "end_time": "2024-05-30T13:54:17.055846Z",
     "start_time": "2024-05-30T13:54:02.307118Z"
    }
   },
   "id": "2c7a8157335ab740"
  },
  {
   "cell_type": "code",
   "execution_count": 161,
   "outputs": [
    {
     "data": {
      "text/plain": "           titleId region      tconst titleType  \\\n218740  tt22046656     FR  tt22046656     movie   \n214062  tt18372080     FR  tt18372080     movie   \n205260  tt14485794     FR  tt14485794     movie   \n219724  tt22875818     FR  tt22875818     movie   \n213556  tt18244676     FR  tt18244676     movie   \n...            ...    ...         ...       ...   \n208747  tt15296568     FR  tt15296568     movie   \n219641  tt22813298     FR  tt22813298     movie   \n199525  tt13280182     FR  tt13280182     movie   \n223054   tt8637504     FR   tt8637504     movie   \n197899  tt12850582     FR  tt12850582     movie   \n\n                           primaryTitle  startYear  averageRating  numVotes  \\\n218740                        Wild Gift     2022.0           10.0         8   \n214062                 The World Cruzer     2022.0           10.0         6   \n205260  Éoliennes: du rêve aux réalités     2021.0            9.4        95   \n219724             Highwaymen Bloodlust     2022.0            9.4         8   \n213556         Pyramide Le Grand Virage     2022.0            9.3         6   \n...                                 ...        ...            ...       ...   \n208747                        I Am More     2021.0            8.3        16   \n219641                 Sons of the Wind     2022.0            8.2         6   \n199525                   The Art of Sin     2020.0            8.2        10   \n223054                       Disclosure     2020.0            8.2      6097   \n197899     Break the Silence: The Movie     2020.0            8.2      2230   \n\n       alpha-2    name  \n218740      FR  France  \n214062      FR  France  \n205260      FR  France  \n219724      FR  France  \n213556      FR  France  \n...        ...     ...  \n208747      FR  France  \n219641      FR  France  \n199525      FR  France  \n223054      FR  France  \n197899      FR  France  \n\n[100 rows x 10 columns]",
      "text/html": "<div>\n<style scoped>\n    .dataframe tbody tr th:only-of-type {\n        vertical-align: middle;\n    }\n\n    .dataframe tbody tr th {\n        vertical-align: top;\n    }\n\n    .dataframe thead th {\n        text-align: right;\n    }\n</style>\n<table border=\"1\" class=\"dataframe\">\n  <thead>\n    <tr style=\"text-align: right;\">\n      <th></th>\n      <th>titleId</th>\n      <th>region</th>\n      <th>tconst</th>\n      <th>titleType</th>\n      <th>primaryTitle</th>\n      <th>startYear</th>\n      <th>averageRating</th>\n      <th>numVotes</th>\n      <th>alpha-2</th>\n      <th>name</th>\n    </tr>\n  </thead>\n  <tbody>\n    <tr>\n      <th>218740</th>\n      <td>tt22046656</td>\n      <td>FR</td>\n      <td>tt22046656</td>\n      <td>movie</td>\n      <td>Wild Gift</td>\n      <td>2022.0</td>\n      <td>10.0</td>\n      <td>8</td>\n      <td>FR</td>\n      <td>France</td>\n    </tr>\n    <tr>\n      <th>214062</th>\n      <td>tt18372080</td>\n      <td>FR</td>\n      <td>tt18372080</td>\n      <td>movie</td>\n      <td>The World Cruzer</td>\n      <td>2022.0</td>\n      <td>10.0</td>\n      <td>6</td>\n      <td>FR</td>\n      <td>France</td>\n    </tr>\n    <tr>\n      <th>205260</th>\n      <td>tt14485794</td>\n      <td>FR</td>\n      <td>tt14485794</td>\n      <td>movie</td>\n      <td>Éoliennes: du rêve aux réalités</td>\n      <td>2021.0</td>\n      <td>9.4</td>\n      <td>95</td>\n      <td>FR</td>\n      <td>France</td>\n    </tr>\n    <tr>\n      <th>219724</th>\n      <td>tt22875818</td>\n      <td>FR</td>\n      <td>tt22875818</td>\n      <td>movie</td>\n      <td>Highwaymen Bloodlust</td>\n      <td>2022.0</td>\n      <td>9.4</td>\n      <td>8</td>\n      <td>FR</td>\n      <td>France</td>\n    </tr>\n    <tr>\n      <th>213556</th>\n      <td>tt18244676</td>\n      <td>FR</td>\n      <td>tt18244676</td>\n      <td>movie</td>\n      <td>Pyramide Le Grand Virage</td>\n      <td>2022.0</td>\n      <td>9.3</td>\n      <td>6</td>\n      <td>FR</td>\n      <td>France</td>\n    </tr>\n    <tr>\n      <th>...</th>\n      <td>...</td>\n      <td>...</td>\n      <td>...</td>\n      <td>...</td>\n      <td>...</td>\n      <td>...</td>\n      <td>...</td>\n      <td>...</td>\n      <td>...</td>\n      <td>...</td>\n    </tr>\n    <tr>\n      <th>208747</th>\n      <td>tt15296568</td>\n      <td>FR</td>\n      <td>tt15296568</td>\n      <td>movie</td>\n      <td>I Am More</td>\n      <td>2021.0</td>\n      <td>8.3</td>\n      <td>16</td>\n      <td>FR</td>\n      <td>France</td>\n    </tr>\n    <tr>\n      <th>219641</th>\n      <td>tt22813298</td>\n      <td>FR</td>\n      <td>tt22813298</td>\n      <td>movie</td>\n      <td>Sons of the Wind</td>\n      <td>2022.0</td>\n      <td>8.2</td>\n      <td>6</td>\n      <td>FR</td>\n      <td>France</td>\n    </tr>\n    <tr>\n      <th>199525</th>\n      <td>tt13280182</td>\n      <td>FR</td>\n      <td>tt13280182</td>\n      <td>movie</td>\n      <td>The Art of Sin</td>\n      <td>2020.0</td>\n      <td>8.2</td>\n      <td>10</td>\n      <td>FR</td>\n      <td>France</td>\n    </tr>\n    <tr>\n      <th>223054</th>\n      <td>tt8637504</td>\n      <td>FR</td>\n      <td>tt8637504</td>\n      <td>movie</td>\n      <td>Disclosure</td>\n      <td>2020.0</td>\n      <td>8.2</td>\n      <td>6097</td>\n      <td>FR</td>\n      <td>France</td>\n    </tr>\n    <tr>\n      <th>197899</th>\n      <td>tt12850582</td>\n      <td>FR</td>\n      <td>tt12850582</td>\n      <td>movie</td>\n      <td>Break the Silence: The Movie</td>\n      <td>2020.0</td>\n      <td>8.2</td>\n      <td>2230</td>\n      <td>FR</td>\n      <td>France</td>\n    </tr>\n  </tbody>\n</table>\n<p>100 rows × 10 columns</p>\n</div>"
     },
     "execution_count": 161,
     "metadata": {},
     "output_type": "execute_result"
    }
   ],
   "source": [
    "merged_data[merged_data['region'] == 'FR'].sort_values(by='averageRating', ascending=False).head(100)"
   ],
   "metadata": {
    "collapsed": false,
    "ExecuteTime": {
     "end_time": "2024-05-30T14:26:46.723286Z",
     "start_time": "2024-05-30T14:26:46.687786Z"
    }
   },
   "id": "bfc5093e23fd83f4"
  },
  {
   "cell_type": "code",
   "execution_count": 141,
   "outputs": [],
   "source": [
    "merged_data = merged_data.drop_duplicates(subset=['region', 'tconst', 'startYear', 'averageRating', 'numVotes'])\n",
    "\n",
    "country_movie_counts = merged_data['region'].value_counts()"
   ],
   "metadata": {
    "collapsed": false,
    "ExecuteTime": {
     "end_time": "2024-05-30T14:01:57.671070Z",
     "start_time": "2024-05-30T14:01:57.111485Z"
    }
   },
   "id": "cbed2bb5885d760"
  },
  {
   "cell_type": "code",
   "execution_count": 142,
   "outputs": [
    {
     "data": {
      "text/plain": "region\nUS     89658\nGB     68027\nRU     32929\nXWW    31896\nDE     31816\n       ...  \nLS         1\nXAU        1\nLC         1\nGI         1\nWS         1\nName: count, Length: 221, dtype: int64"
     },
     "execution_count": 142,
     "metadata": {},
     "output_type": "execute_result"
    }
   ],
   "source": [
    "country_movie_counts"
   ],
   "metadata": {
    "collapsed": false,
    "ExecuteTime": {
     "end_time": "2024-05-30T14:02:01.771552Z",
     "start_time": "2024-05-30T14:02:01.764801Z"
    }
   },
   "id": "2f0afbcb550f02a4"
  },
  {
   "cell_type": "code",
   "execution_count": 145,
   "outputs": [],
   "source": [
    "\n",
    "\n",
    "from yaml._yaml import ParserError\n",
    "\n",
    "\n",
    "def load_data(file_path: str) -> pd.DataFrame:\n",
    "    \"\"\"\n",
    "    Load the data from the CSV file.\n",
    "\n",
    "    :param file_path: str: Path to the CSV file with the data\n",
    "\n",
    "    :return pd.DataFrame: Data from the CSV file\n",
    "    \"\"\"\n",
    "    try:\n",
    "        data = pd.read_csv(file_path, low_memory=False, na_values='\\\\N')\n",
    "    except ParserError:\n",
    "        data = pd.read_csv(file_path, sep='\\t', low_memory=False, na_values='\\\\N')\n",
    "\n",
    "    return data"
   ],
   "metadata": {
    "collapsed": false,
    "ExecuteTime": {
     "end_time": "2024-05-30T14:09:02.260544Z",
     "start_time": "2024-05-30T14:09:02.210747Z"
    }
   },
   "id": "39b9b01571920915"
  },
  {
   "cell_type": "code",
   "execution_count": 146,
   "outputs": [],
   "source": [
    "basics = dp.load_data('./data/title.basics.tsv')"
   ],
   "metadata": {
    "collapsed": false,
    "ExecuteTime": {
     "end_time": "2024-05-30T14:09:48.929918Z",
     "start_time": "2024-05-30T14:09:10.716201Z"
    }
   },
   "id": "f8d24d8ff0581c05"
  },
  {
   "cell_type": "code",
   "execution_count": 170,
   "outputs": [],
   "source": [
    "countries = load_data('./data/countries.csv')"
   ],
   "metadata": {
    "collapsed": false,
    "ExecuteTime": {
     "end_time": "2024-05-30T14:30:37.022662Z",
     "start_time": "2024-05-30T14:30:37.011180Z"
    }
   },
   "id": "557eaf433513884f"
  },
  {
   "cell_type": "code",
   "execution_count": 171,
   "outputs": [],
   "source": [
    "def keep_interesting_columns(\n",
    "        basics_df: pd.DataFrame,\n",
    "        ratings_df: pd.DataFrame,\n",
    "        akas_df: pd.DataFrame,\n",
    "        countries_df: pd.DataFrame,\n",
    "):\n",
    "    \"\"\"\n",
    "    Filter the dataframes to keep only the interesting columns.\n",
    "\n",
    "    :param basics_df: pd.DataFrame:\n",
    "        Data with basic information about the movies\n",
    "    :param ratings_df: pd.DataFrame:\n",
    "        Data with ratings of the movies\n",
    "    :param akas_df: pd.DataFrame:\n",
    "        Data with information about the different regions where the movies were presented\n",
    "    :param countries_df: pd.DataFrame:\n",
    "        Data with information about the names of the countries based on the region codes\n",
    "\n",
    "    :return: Tuple[pd.DataFrame, pd.DataFrame, pd.DataFrame, pd.DataFrame]: Filtered dataframes\n",
    "    \"\"\"\n",
    "    basics_df = basics_df[['tconst', 'titleType', 'primaryTitle', 'startYear']]\n",
    "    ratings_df = ratings_df[['tconst', 'averageRating', 'numVotes']]\n",
    "    akas_df = akas_df[['titleId', 'region']]\n",
    "    countries_df = countries_df[['alpha-2', 'name']]\n",
    "\n",
    "    return basics_df, ratings_df, akas_df, countries_df"
   ],
   "metadata": {
    "collapsed": false,
    "ExecuteTime": {
     "end_time": "2024-05-30T14:30:39.228771Z",
     "start_time": "2024-05-30T14:30:39.222741Z"
    }
   },
   "id": "2e702e4b85afc5af"
  },
  {
   "cell_type": "code",
   "execution_count": 172,
   "outputs": [],
   "source": [
    "basics_selected, ratings_selected, akas_selected, countries_selected = keep_interesting_columns(\n",
    "        basics, ratings, akas, countries)"
   ],
   "metadata": {
    "collapsed": false,
    "ExecuteTime": {
     "end_time": "2024-05-30T14:30:43.104140Z",
     "start_time": "2024-05-30T14:30:40.573862Z"
    }
   },
   "id": "479514c4b7056cd5"
  },
  {
   "cell_type": "code",
   "execution_count": 154,
   "outputs": [
    {
     "data": {
      "text/plain": "    alpha-2               name\n0        AF        Afghanistan\n1        AX      Åland Islands\n2        AL            Albania\n3        DZ            Algeria\n4        AS     American Samoa\n..      ...                ...\n244      WF  Wallis and Futuna\n245      EH     Western Sahara\n246      YE              Yemen\n247      ZM             Zambia\n248      ZW           Zimbabwe\n\n[249 rows x 2 columns]",
      "text/html": "<div>\n<style scoped>\n    .dataframe tbody tr th:only-of-type {\n        vertical-align: middle;\n    }\n\n    .dataframe tbody tr th {\n        vertical-align: top;\n    }\n\n    .dataframe thead th {\n        text-align: right;\n    }\n</style>\n<table border=\"1\" class=\"dataframe\">\n  <thead>\n    <tr style=\"text-align: right;\">\n      <th></th>\n      <th>alpha-2</th>\n      <th>name</th>\n    </tr>\n  </thead>\n  <tbody>\n    <tr>\n      <th>0</th>\n      <td>AF</td>\n      <td>Afghanistan</td>\n    </tr>\n    <tr>\n      <th>1</th>\n      <td>AX</td>\n      <td>Åland Islands</td>\n    </tr>\n    <tr>\n      <th>2</th>\n      <td>AL</td>\n      <td>Albania</td>\n    </tr>\n    <tr>\n      <th>3</th>\n      <td>DZ</td>\n      <td>Algeria</td>\n    </tr>\n    <tr>\n      <th>4</th>\n      <td>AS</td>\n      <td>American Samoa</td>\n    </tr>\n    <tr>\n      <th>...</th>\n      <td>...</td>\n      <td>...</td>\n    </tr>\n    <tr>\n      <th>244</th>\n      <td>WF</td>\n      <td>Wallis and Futuna</td>\n    </tr>\n    <tr>\n      <th>245</th>\n      <td>EH</td>\n      <td>Western Sahara</td>\n    </tr>\n    <tr>\n      <th>246</th>\n      <td>YE</td>\n      <td>Yemen</td>\n    </tr>\n    <tr>\n      <th>247</th>\n      <td>ZM</td>\n      <td>Zambia</td>\n    </tr>\n    <tr>\n      <th>248</th>\n      <td>ZW</td>\n      <td>Zimbabwe</td>\n    </tr>\n  </tbody>\n</table>\n<p>249 rows × 2 columns</p>\n</div>"
     },
     "execution_count": 154,
     "metadata": {},
     "output_type": "execute_result"
    }
   ],
   "source": [
    "countries_selected"
   ],
   "metadata": {
    "collapsed": false,
    "ExecuteTime": {
     "end_time": "2024-05-30T14:24:08.899321Z",
     "start_time": "2024-05-30T14:24:08.894475Z"
    }
   },
   "id": "371f62978ae5821f"
  },
  {
   "cell_type": "code",
   "execution_count": 155,
   "outputs": [],
   "source": [
    "def merge_data(\n",
    "        basics_df: pd.DataFrame,\n",
    "        ratings_df: pd.DataFrame,\n",
    "        akas_df: pd.DataFrame,\n",
    "        countries_df: pd.DataFrame,\n",
    ") -> pd.DataFrame:\n",
    "    \"\"\"\n",
    "    Merge the data from the dataframes.\n",
    "\n",
    "    :param basics_df: pd.DataFrame:\n",
    "        Data with basic information about the movies\n",
    "    :param ratings_df: pd.DataFrame:\n",
    "        Data with ratings of the movies\n",
    "    :param akas_df: pd.DataFrame:\n",
    "        Data with information about the different regions where the movies were presented\n",
    "    :param countries_df: pd.DataFrame:\n",
    "        Data with information about the names of the countries based on the region codes\n",
    "\n",
    "    :return: pd.DataFrame: Merged data from the dataframes\n",
    "    \"\"\"\n",
    "    merged_df = akas_df.merge(basics_df, left_on='titleId', right_on='tconst')\n",
    "    merged_df = merged_df.merge(ratings_df, on='tconst')\n",
    "    merged_df = merged_df.merge(countries_df, left_on='region', right_on='alpha-2')\n",
    "\n",
    "    return merged_df"
   ],
   "metadata": {
    "collapsed": false,
    "ExecuteTime": {
     "end_time": "2024-05-30T14:24:35.152693Z",
     "start_time": "2024-05-30T14:24:35.116932Z"
    }
   },
   "id": "2871873a23c2bf16"
  },
  {
   "cell_type": "code",
   "execution_count": 173,
   "outputs": [],
   "source": [
    "# basics_filtered = dp.filter_years(basics_selected, 2020, 2022)\n",
    "    \n",
    "merged_data = merge_data(basics_filtered, ratings_selected, akas_selected, countries_selected)\n",
    "merged_data = merged_data[merged_data['titleType'] == 'movie']"
   ],
   "metadata": {
    "collapsed": false,
    "ExecuteTime": {
     "end_time": "2024-05-30T14:31:11.282297Z",
     "start_time": "2024-05-30T14:31:04.177040Z"
    }
   },
   "id": "14dd0233495a6269"
  },
  {
   "cell_type": "code",
   "execution_count": 160,
   "outputs": [
    {
     "data": {
      "text/plain": "     titleId region     tconst titleType  \\\n0  tt0013274    NaN  tt0013274     movie   \n1  tt0013274    NaN  tt0013274     movie   \n3  tt0062336    NaN  tt0062336     movie   \n4  tt0062336    NaN  tt0062336     movie   \n5  tt0096235    NaN  tt0096235     movie   \n\n                                        primaryTitle  startYear  \\\n0                        Istoriya grazhdanskoy voyny     2021.0   \n1                        Istoriya grazhdanskoy voyny     2021.0   \n3  The Tango of the Widower and Its Distorting Mi...     2020.0   \n4  The Tango of the Widower and Its Distorting Mi...     2020.0   \n5                                        Taxi Killer     2022.0   \n\n   averageRating  numVotes alpha-2     name  \n0            6.8        69     NaN  Namibia  \n1            6.8        69     NaN  Namibia  \n3            6.4       188     NaN  Namibia  \n4            6.4       188     NaN  Namibia  \n5            5.6        73     NaN  Namibia  ",
      "text/html": "<div>\n<style scoped>\n    .dataframe tbody tr th:only-of-type {\n        vertical-align: middle;\n    }\n\n    .dataframe tbody tr th {\n        vertical-align: top;\n    }\n\n    .dataframe thead th {\n        text-align: right;\n    }\n</style>\n<table border=\"1\" class=\"dataframe\">\n  <thead>\n    <tr style=\"text-align: right;\">\n      <th></th>\n      <th>titleId</th>\n      <th>region</th>\n      <th>tconst</th>\n      <th>titleType</th>\n      <th>primaryTitle</th>\n      <th>startYear</th>\n      <th>averageRating</th>\n      <th>numVotes</th>\n      <th>alpha-2</th>\n      <th>name</th>\n    </tr>\n  </thead>\n  <tbody>\n    <tr>\n      <th>0</th>\n      <td>tt0013274</td>\n      <td>NaN</td>\n      <td>tt0013274</td>\n      <td>movie</td>\n      <td>Istoriya grazhdanskoy voyny</td>\n      <td>2021.0</td>\n      <td>6.8</td>\n      <td>69</td>\n      <td>NaN</td>\n      <td>Namibia</td>\n    </tr>\n    <tr>\n      <th>1</th>\n      <td>tt0013274</td>\n      <td>NaN</td>\n      <td>tt0013274</td>\n      <td>movie</td>\n      <td>Istoriya grazhdanskoy voyny</td>\n      <td>2021.0</td>\n      <td>6.8</td>\n      <td>69</td>\n      <td>NaN</td>\n      <td>Namibia</td>\n    </tr>\n    <tr>\n      <th>3</th>\n      <td>tt0062336</td>\n      <td>NaN</td>\n      <td>tt0062336</td>\n      <td>movie</td>\n      <td>The Tango of the Widower and Its Distorting Mi...</td>\n      <td>2020.0</td>\n      <td>6.4</td>\n      <td>188</td>\n      <td>NaN</td>\n      <td>Namibia</td>\n    </tr>\n    <tr>\n      <th>4</th>\n      <td>tt0062336</td>\n      <td>NaN</td>\n      <td>tt0062336</td>\n      <td>movie</td>\n      <td>The Tango of the Widower and Its Distorting Mi...</td>\n      <td>2020.0</td>\n      <td>6.4</td>\n      <td>188</td>\n      <td>NaN</td>\n      <td>Namibia</td>\n    </tr>\n    <tr>\n      <th>5</th>\n      <td>tt0096235</td>\n      <td>NaN</td>\n      <td>tt0096235</td>\n      <td>movie</td>\n      <td>Taxi Killer</td>\n      <td>2022.0</td>\n      <td>5.6</td>\n      <td>73</td>\n      <td>NaN</td>\n      <td>Namibia</td>\n    </tr>\n  </tbody>\n</table>\n</div>"
     },
     "execution_count": 160,
     "metadata": {},
     "output_type": "execute_result"
    }
   ],
   "source": [
    "merged_data.head()"
   ],
   "metadata": {
    "collapsed": false,
    "ExecuteTime": {
     "end_time": "2024-05-30T14:26:30.164593Z",
     "start_time": "2024-05-30T14:26:30.157794Z"
    }
   },
   "id": "a7dd4255d37954aa"
  },
  {
   "cell_type": "code",
   "execution_count": 176,
   "outputs": [],
   "source": [
    "def perform_task_1(merged_df: pd.DataFrame, numbers=(10, 20, 50, 100, 200)) -> None:\n",
    "    \"\"\"\n",
    "    Perform the task 1 analysis.\n",
    "\n",
    "    :param merged_df: pd.DataFrame: Merged dataframe with the movie data\n",
    "    :param numbers: tuple: Tuple with the numbers of top movies to consider\n",
    "    :return: None\n",
    "    \"\"\"\n",
    "    for n in numbers:\n",
    "        top_n_ratings_df = get_top_n_movies_per_country(merged_df, n)\n",
    "        top_n_ratings_df = top_n_ratings_df.sort_values(by='avg_rating', ascending=False)\n",
    "        print('-' * 50)\n",
    "        print(f\"Top 10 countries based on top {n} films: \")\n",
    "        print(top_n_ratings_df.head(10))\n",
    "\n",
    "\n",
    "def get_top_n_movies_per_country(movies_df, n) -> pd.DataFrame:\n",
    "    \"\"\"\n",
    "    Get the average rating of the top n movies per country.\n",
    "    In case of same rating, the number of votes is used as a tiebreaker.\n",
    "    The process takes into account only countries with at least n movies\n",
    "    (in order to have comparable and fair rankings)\n",
    "\n",
    "    :param movies_df: pd.DataFrame: Dataframe with the movies data\n",
    "    :param n: int: Number of top movies to choose per country\n",
    "\n",
    "    :return: pd.DataFrame: Dataframe with the average rating of the top n movies per country\n",
    "    \"\"\"\n",
    "    movies_df = movies_df.drop_duplicates(\n",
    "        subset=['region', 'tconst', 'startYear', 'averageRating', 'numVotes'],\n",
    "        keep='first',\n",
    "    )\n",
    "    country_movie_counts = movies_df['region'].value_counts()\n",
    "    countries_with_at_least_n_films = country_movie_counts[country_movie_counts >= n].index\n",
    "    valid_df = movies_df[movies_df['region'].isin(countries_with_at_least_n_films)]\n",
    "    valid_df = valid_df.sort_values(\n",
    "        by=['name', 'region', 'averageRating', 'numVotes'],\n",
    "        ascending=[True, True, False, False],\n",
    "    )\n",
    "\n",
    "    top_n_movies_df = valid_df.groupby('region').head(n)\n",
    "    top_n_ratings_df = top_n_movies_df.groupby(['name', 'region']).agg({\n",
    "        'averageRating': 'mean',\n",
    "        'numVotes': 'sum',\n",
    "        'tconst': 'count'\n",
    "    }).reset_index()\n",
    "\n",
    "    top_n_ratings_df.columns = ['country_name', 'country_code', 'avg_rating', 'total_votes', 'film_count']\n",
    "    return top_n_ratings_df\n"
   ],
   "metadata": {
    "collapsed": false,
    "ExecuteTime": {
     "end_time": "2024-05-30T14:31:19.085433Z",
     "start_time": "2024-05-30T14:31:19.070922Z"
    }
   },
   "id": "a099a5886de3cad1"
  },
  {
   "cell_type": "code",
   "execution_count": 177,
   "outputs": [
    {
     "name": "stdout",
     "output_type": "stream",
     "text": [
      "--------------------------------------------------\n",
      "Top 10 countries based on top 10 films: \n",
      "                        country_name country_code  avg_rating  total_votes  \\\n",
      "103         United States of America           US       10.00           96   \n",
      "102  United Kingdom of Great Britain           GB        9.89          180   \n",
      "16                            Canada           CA        9.87          262   \n",
      "42                             India           IN        9.86          617   \n",
      "48                             Italy           IT        9.77          278   \n",
      "4                          Australia           AU        9.74          220   \n",
      "12                            Brazil           BR        9.67          238   \n",
      "96                          Thailand           TH        9.64          554   \n",
      "34                           Germany           DE        9.62          314   \n",
      "89                             Spain           ES        9.61          572   \n",
      "\n",
      "     film_count  \n",
      "103          10  \n",
      "102          10  \n",
      "16           10  \n",
      "42           10  \n",
      "48           10  \n",
      "4            10  \n",
      "12           10  \n",
      "96           10  \n",
      "34           10  \n",
      "89           10  \n",
      "--------------------------------------------------\n",
      "Top 10 countries based on top 20 films: \n",
      "                       country_name country_code  avg_rating  total_votes  \\\n",
      "92         United States of America           US       9.965          278   \n",
      "37                            India           IN       9.830          689   \n",
      "91  United Kingdom of Great Britain           GB       9.795          367   \n",
      "14                           Canada           CA       9.780          488   \n",
      "4                         Australia           AU       9.620          619   \n",
      "42                            Italy           IT       9.600          532   \n",
      "30                          Germany           DE       9.480        11092   \n",
      "12                           Brazil           BR       9.430         2015   \n",
      "80                            Spain           ES       9.395         5621   \n",
      "44                            Japan           JP       9.310        13355   \n",
      "\n",
      "    film_count  \n",
      "92          20  \n",
      "37          20  \n",
      "91          20  \n",
      "14          20  \n",
      "4           20  \n",
      "42          20  \n",
      "30          20  \n",
      "12          20  \n",
      "80          20  \n",
      "44          20  \n",
      "--------------------------------------------------\n",
      "Top 10 countries based on top 50 films: \n",
      "                       country_name country_code  avg_rating  total_votes  \\\n",
      "73         United States of America           US       9.850         1129   \n",
      "31                            India           IN       9.698         1861   \n",
      "72  United Kingdom of Great Britain           GB       9.600         1828   \n",
      "11                           Canada           CA       9.586         1960   \n",
      "2                         Australia           AU       9.360        11819   \n",
      "36                            Italy           IT       9.278        45073   \n",
      "26                          Germany           DE       9.222        42739   \n",
      "64                            Spain           ES       9.056       463899   \n",
      "37                            Japan           JP       9.052       517994   \n",
      "9                            Brazil           BR       9.050       301706   \n",
      "\n",
      "    film_count  \n",
      "73          50  \n",
      "31          50  \n",
      "72          50  \n",
      "11          50  \n",
      "2           50  \n",
      "36          50  \n",
      "26          50  \n",
      "64          50  \n",
      "37          50  \n",
      "9           50  \n",
      "--------------------------------------------------\n",
      "Top 10 countries based on top 100 films: \n",
      "                       country_name country_code  avg_rating  total_votes  \\\n",
      "64         United States of America           US       9.732         2628   \n",
      "25                            India           IN       9.565         4355   \n",
      "63  United Kingdom of Great Britain           GB       9.418        17924   \n",
      "8                            Canada           CA       9.408        16333   \n",
      "1                         Australia           AU       9.102       540934   \n",
      "20                          Germany           DE       8.974      1146641   \n",
      "30                            Italy           IT       8.974      1180501   \n",
      "31                            Japan           JP       8.815      1253008   \n",
      "55                            Spain           ES       8.771      1814768   \n",
      "6                            Brazil           BR       8.729      2650970   \n",
      "\n",
      "    film_count  \n",
      "64         100  \n",
      "25         100  \n",
      "63         100  \n",
      "8          100  \n",
      "1          100  \n",
      "20         100  \n",
      "30         100  \n",
      "31         100  \n",
      "55         100  \n",
      "6          100  \n",
      "--------------------------------------------------\n",
      "Top 10 countries based on top 200 films: \n",
      "                       country_name country_code  avg_rating  total_votes  \\\n",
      "58         United States of America           US      9.5685         6068   \n",
      "22                            India           IN      9.3770        22828   \n",
      "57  United Kingdom of Great Britain           GB      9.1880       120121   \n",
      "6                            Canada           CA      9.1810       108951   \n",
      "1                         Australia           AU      8.8280      1373947   \n",
      "18                          Germany           DE      8.6870      2068592   \n",
      "27                            Italy           IT      8.6060      5132045   \n",
      "28                            Japan           JP      8.5060      5834595   \n",
      "49                            Spain           ES      8.4495      5799391   \n",
      "4                            Brazil           BR      8.3730      7075541   \n",
      "\n",
      "    film_count  \n",
      "58         200  \n",
      "22         200  \n",
      "57         200  \n",
      "6          200  \n",
      "1          200  \n",
      "18         200  \n",
      "27         200  \n",
      "28         200  \n",
      "49         200  \n",
      "4          200  \n"
     ]
    }
   ],
   "source": [
    "perform_task_1(merged_data)"
   ],
   "metadata": {
    "collapsed": false,
    "ExecuteTime": {
     "end_time": "2024-05-30T14:31:20.548235Z",
     "start_time": "2024-05-30T14:31:19.438460Z"
    }
   },
   "id": "5e52fd3fd8293c8b"
  },
  {
   "cell_type": "code",
   "execution_count": 2,
   "outputs": [
    {
     "ename": "KeyError",
     "evalue": "\"None of [Index(['tconst', 'averageRating', 'numVotes'], dtype='object')] are in the [columns]\"",
     "output_type": "error",
     "traceback": [
      "\u001B[0;31m---------------------------------------------------------------------------\u001B[0m",
      "\u001B[0;31mKeyError\u001B[0m                                  Traceback (most recent call last)",
      "Cell \u001B[0;32mIn[2], line 9\u001B[0m\n\u001B[1;32m      6\u001B[0m akas \u001B[38;5;241m=\u001B[39m load_data(\u001B[38;5;124m'\u001B[39m\u001B[38;5;124m./data/title.akas.tsv\u001B[39m\u001B[38;5;124m'\u001B[39m)\n\u001B[1;32m      7\u001B[0m countries \u001B[38;5;241m=\u001B[39m load_data(\u001B[38;5;124m'\u001B[39m\u001B[38;5;124m./data/countries.csv\u001B[39m\u001B[38;5;124m'\u001B[39m)\n\u001B[0;32m----> 9\u001B[0m basics_selected, ratings_selected, akas_selected, countries_selected \u001B[38;5;241m=\u001B[39m \u001B[43mkeep_interesting_columns\u001B[49m\u001B[43m(\u001B[49m\n\u001B[1;32m     10\u001B[0m \u001B[43m        \u001B[49m\u001B[43mbasics\u001B[49m\u001B[43m,\u001B[49m\u001B[43m \u001B[49m\u001B[43mratings\u001B[49m\u001B[43m,\u001B[49m\u001B[43m \u001B[49m\u001B[43makas\u001B[49m\u001B[43m,\u001B[49m\u001B[43m \u001B[49m\u001B[43mcountries\u001B[49m\u001B[43m,\u001B[49m\n\u001B[1;32m     11\u001B[0m \u001B[43m    \u001B[49m\u001B[43m)\u001B[49m\n\u001B[1;32m     12\u001B[0m basics_filtered \u001B[38;5;241m=\u001B[39m filter_years(basics_selected, \u001B[38;5;241m1990\u001B[39m, \u001B[38;5;241m2000\u001B[39m)\n\u001B[1;32m     13\u001B[0m merged_data \u001B[38;5;241m=\u001B[39m merge_data(basics_filtered, ratings_selected, akas_selected, countries_selected)\n",
      "File \u001B[0;32m~/Studies/project/film_ranking/data_analysis/data_processing.py:73\u001B[0m, in \u001B[0;36mkeep_interesting_columns\u001B[0;34m(basics_df, ratings_df, akas_df, countries_df)\u001B[0m\n\u001B[1;32m     58\u001B[0m \u001B[38;5;250m\u001B[39m\u001B[38;5;124;03m\"\"\"\u001B[39;00m\n\u001B[1;32m     59\u001B[0m \u001B[38;5;124;03mFilter the dataframes to keep only the interesting columns.\u001B[39;00m\n\u001B[1;32m     60\u001B[0m \n\u001B[0;32m   (...)\u001B[0m\n\u001B[1;32m     70\u001B[0m \u001B[38;5;124;03m:return: Tuple[pd.DataFrame, pd.DataFrame, pd.DataFrame, pd.DataFrame]: Filtered dataframes\u001B[39;00m\n\u001B[1;32m     71\u001B[0m \u001B[38;5;124;03m\"\"\"\u001B[39;00m\n\u001B[1;32m     72\u001B[0m basics_df \u001B[38;5;241m=\u001B[39m basics_df[[\u001B[38;5;124m'\u001B[39m\u001B[38;5;124mtconst\u001B[39m\u001B[38;5;124m'\u001B[39m, \u001B[38;5;124m'\u001B[39m\u001B[38;5;124mtitleType\u001B[39m\u001B[38;5;124m'\u001B[39m, \u001B[38;5;124m'\u001B[39m\u001B[38;5;124mprimaryTitle\u001B[39m\u001B[38;5;124m'\u001B[39m, \u001B[38;5;124m'\u001B[39m\u001B[38;5;124mstartYear\u001B[39m\u001B[38;5;124m'\u001B[39m]]\n\u001B[0;32m---> 73\u001B[0m ratings_df \u001B[38;5;241m=\u001B[39m \u001B[43mratings_df\u001B[49m\u001B[43m[\u001B[49m\u001B[43m[\u001B[49m\u001B[38;5;124;43m'\u001B[39;49m\u001B[38;5;124;43mtconst\u001B[39;49m\u001B[38;5;124;43m'\u001B[39;49m\u001B[43m,\u001B[49m\u001B[43m \u001B[49m\u001B[38;5;124;43m'\u001B[39;49m\u001B[38;5;124;43maverageRating\u001B[39;49m\u001B[38;5;124;43m'\u001B[39;49m\u001B[43m,\u001B[49m\u001B[43m \u001B[49m\u001B[38;5;124;43m'\u001B[39;49m\u001B[38;5;124;43mnumVotes\u001B[39;49m\u001B[38;5;124;43m'\u001B[39;49m\u001B[43m]\u001B[49m\u001B[43m]\u001B[49m\n\u001B[1;32m     74\u001B[0m akas_df \u001B[38;5;241m=\u001B[39m akas_df[[\u001B[38;5;124m'\u001B[39m\u001B[38;5;124mtitleId\u001B[39m\u001B[38;5;124m'\u001B[39m, \u001B[38;5;124m'\u001B[39m\u001B[38;5;124mregion\u001B[39m\u001B[38;5;124m'\u001B[39m]]\n\u001B[1;32m     75\u001B[0m countries_df \u001B[38;5;241m=\u001B[39m countries_df[[\u001B[38;5;124m'\u001B[39m\u001B[38;5;124malpha-2\u001B[39m\u001B[38;5;124m'\u001B[39m, \u001B[38;5;124m'\u001B[39m\u001B[38;5;124mname\u001B[39m\u001B[38;5;124m'\u001B[39m]]\n",
      "File \u001B[0;32m~/Studies/project/film_ranking/venv/lib/python3.12/site-packages/pandas/core/frame.py:3767\u001B[0m, in \u001B[0;36mDataFrame.__getitem__\u001B[0;34m(self, key)\u001B[0m\n\u001B[1;32m   3765\u001B[0m     \u001B[38;5;28;01mif\u001B[39;00m is_iterator(key):\n\u001B[1;32m   3766\u001B[0m         key \u001B[38;5;241m=\u001B[39m \u001B[38;5;28mlist\u001B[39m(key)\n\u001B[0;32m-> 3767\u001B[0m     indexer \u001B[38;5;241m=\u001B[39m \u001B[38;5;28;43mself\u001B[39;49m\u001B[38;5;241;43m.\u001B[39;49m\u001B[43mcolumns\u001B[49m\u001B[38;5;241;43m.\u001B[39;49m\u001B[43m_get_indexer_strict\u001B[49m\u001B[43m(\u001B[49m\u001B[43mkey\u001B[49m\u001B[43m,\u001B[49m\u001B[43m \u001B[49m\u001B[38;5;124;43m\"\u001B[39;49m\u001B[38;5;124;43mcolumns\u001B[39;49m\u001B[38;5;124;43m\"\u001B[39;49m\u001B[43m)\u001B[49m[\u001B[38;5;241m1\u001B[39m]\n\u001B[1;32m   3769\u001B[0m \u001B[38;5;66;03m# take() does not accept boolean indexers\u001B[39;00m\n\u001B[1;32m   3770\u001B[0m \u001B[38;5;28;01mif\u001B[39;00m \u001B[38;5;28mgetattr\u001B[39m(indexer, \u001B[38;5;124m\"\u001B[39m\u001B[38;5;124mdtype\u001B[39m\u001B[38;5;124m\"\u001B[39m, \u001B[38;5;28;01mNone\u001B[39;00m) \u001B[38;5;241m==\u001B[39m \u001B[38;5;28mbool\u001B[39m:\n",
      "File \u001B[0;32m~/Studies/project/film_ranking/venv/lib/python3.12/site-packages/pandas/core/indexes/base.py:5877\u001B[0m, in \u001B[0;36mIndex._get_indexer_strict\u001B[0;34m(self, key, axis_name)\u001B[0m\n\u001B[1;32m   5874\u001B[0m \u001B[38;5;28;01melse\u001B[39;00m:\n\u001B[1;32m   5875\u001B[0m     keyarr, indexer, new_indexer \u001B[38;5;241m=\u001B[39m \u001B[38;5;28mself\u001B[39m\u001B[38;5;241m.\u001B[39m_reindex_non_unique(keyarr)\n\u001B[0;32m-> 5877\u001B[0m \u001B[38;5;28;43mself\u001B[39;49m\u001B[38;5;241;43m.\u001B[39;49m\u001B[43m_raise_if_missing\u001B[49m\u001B[43m(\u001B[49m\u001B[43mkeyarr\u001B[49m\u001B[43m,\u001B[49m\u001B[43m \u001B[49m\u001B[43mindexer\u001B[49m\u001B[43m,\u001B[49m\u001B[43m \u001B[49m\u001B[43maxis_name\u001B[49m\u001B[43m)\u001B[49m\n\u001B[1;32m   5879\u001B[0m keyarr \u001B[38;5;241m=\u001B[39m \u001B[38;5;28mself\u001B[39m\u001B[38;5;241m.\u001B[39mtake(indexer)\n\u001B[1;32m   5880\u001B[0m \u001B[38;5;28;01mif\u001B[39;00m \u001B[38;5;28misinstance\u001B[39m(key, Index):\n\u001B[1;32m   5881\u001B[0m     \u001B[38;5;66;03m# GH 42790 - Preserve name from an Index\u001B[39;00m\n",
      "File \u001B[0;32m~/Studies/project/film_ranking/venv/lib/python3.12/site-packages/pandas/core/indexes/base.py:5938\u001B[0m, in \u001B[0;36mIndex._raise_if_missing\u001B[0;34m(self, key, indexer, axis_name)\u001B[0m\n\u001B[1;32m   5936\u001B[0m     \u001B[38;5;28;01mif\u001B[39;00m use_interval_msg:\n\u001B[1;32m   5937\u001B[0m         key \u001B[38;5;241m=\u001B[39m \u001B[38;5;28mlist\u001B[39m(key)\n\u001B[0;32m-> 5938\u001B[0m     \u001B[38;5;28;01mraise\u001B[39;00m \u001B[38;5;167;01mKeyError\u001B[39;00m(\u001B[38;5;124mf\u001B[39m\u001B[38;5;124m\"\u001B[39m\u001B[38;5;124mNone of [\u001B[39m\u001B[38;5;132;01m{\u001B[39;00mkey\u001B[38;5;132;01m}\u001B[39;00m\u001B[38;5;124m] are in the [\u001B[39m\u001B[38;5;132;01m{\u001B[39;00maxis_name\u001B[38;5;132;01m}\u001B[39;00m\u001B[38;5;124m]\u001B[39m\u001B[38;5;124m\"\u001B[39m)\n\u001B[1;32m   5940\u001B[0m not_found \u001B[38;5;241m=\u001B[39m \u001B[38;5;28mlist\u001B[39m(ensure_index(key)[missing_mask\u001B[38;5;241m.\u001B[39mnonzero()[\u001B[38;5;241m0\u001B[39m]]\u001B[38;5;241m.\u001B[39munique())\n\u001B[1;32m   5941\u001B[0m \u001B[38;5;28;01mraise\u001B[39;00m \u001B[38;5;167;01mKeyError\u001B[39;00m(\u001B[38;5;124mf\u001B[39m\u001B[38;5;124m\"\u001B[39m\u001B[38;5;132;01m{\u001B[39;00mnot_found\u001B[38;5;132;01m}\u001B[39;00m\u001B[38;5;124m not in index\u001B[39m\u001B[38;5;124m\"\u001B[39m)\n",
      "\u001B[0;31mKeyError\u001B[0m: \"None of [Index(['tconst', 'averageRating', 'numVotes'], dtype='object')] are in the [columns]\""
     ]
    }
   ],
   "source": [
    "from data_analysis.analysis import perform_task_1\n",
    "from data_analysis.data_processing import load_data, keep_interesting_columns, merge_data, fi\n",
    "\n",
    "basics = load_data('./data/title.basics.tsv')\n",
    "ratings = load_data('./data/title.ratings.tsv')\n",
    "akas = load_data('./data/title.akas.tsv')\n",
    "countries = load_data('./data/countries.csv')\n"
   ],
   "metadata": {
    "collapsed": false,
    "ExecuteTime": {
     "end_time": "2024-05-30T15:09:52.254809Z",
     "start_time": "2024-05-30T15:07:00.311860Z"
    }
   },
   "id": "198ac251b625216e"
  },
  {
   "cell_type": "code",
   "execution_count": 5,
   "outputs": [
    {
     "data": {
      "text/plain": "Index(['tconst\\taverageRating\\tnumVotes'], dtype='object')"
     },
     "execution_count": 5,
     "metadata": {},
     "output_type": "execute_result"
    }
   ],
   "source": [
    "ratings.columns"
   ],
   "metadata": {
    "collapsed": false,
    "ExecuteTime": {
     "end_time": "2024-05-30T15:12:01.099899Z",
     "start_time": "2024-05-30T15:12:01.083814Z"
    }
   },
   "id": "6fd78abc995706fd"
  },
  {
   "cell_type": "code",
   "execution_count": 14,
   "outputs": [],
   "source": [
    "import pandas as pd\n",
    "ratings = pd.read_csv('./data/title.ratings.tsv', sep='\\t', na_values='\\\\N', low_memory=False)"
   ],
   "metadata": {
    "collapsed": false,
    "ExecuteTime": {
     "end_time": "2024-05-30T15:24:17.005452Z",
     "start_time": "2024-05-30T15:24:16.160261Z"
    }
   },
   "id": "380ab85833824a66"
  },
  {
   "cell_type": "code",
   "execution_count": 15,
   "outputs": [],
   "source": [
    "basics_selected, ratings_selected, akas_selected, countries_selected = keep_interesting_columns(\n",
    "        basics, ratings, akas, countries,\n",
    ")"
   ],
   "metadata": {
    "collapsed": false,
    "ExecuteTime": {
     "start_time": "2024-05-30T15:24:20.414942Z"
    }
   },
   "id": "da21c4d6e3ff7658"
  },
  {
   "cell_type": "code",
   "execution_count": 16,
   "outputs": [],
   "source": [
    "from data_analysis.data_processing import filter_years, merge_data\n",
    "basics_filtered = filter_years(basics_selected, 1990, 2000)\n",
    "merged_data = merge_data(basics_filtered, ratings_selected, akas_selected, countries_selected)\n",
    "merged_data = merged_data[merged_data['titleType'] == 'movie']\n"
   ],
   "metadata": {
    "collapsed": false,
    "ExecuteTime": {
     "end_time": "2024-05-30T15:24:46.425741Z",
     "start_time": "2024-05-30T15:24:24.094657Z"
    }
   },
   "id": "4fc30e69dc353124"
  },
  {
   "cell_type": "code",
   "execution_count": 25,
   "outputs": [],
   "source": [
    "merged_data = merged_data.dropna(subset=['region'])"
   ],
   "metadata": {
    "collapsed": false,
    "ExecuteTime": {
     "end_time": "2024-05-30T15:29:11.214988Z",
     "start_time": "2024-05-30T15:29:11.164113Z"
    }
   },
   "id": "d79a52202e213b85"
  },
  {
   "cell_type": "code",
   "execution_count": 26,
   "outputs": [
    {
     "data": {
      "text/plain": "          titleId region     tconst titleType                    primaryTitle  \\\n156361  tt0038086     DE  tt0038086     movie       Shiva und die Galgenblume   \n156362  tt0059097     DE  tt0059097     movie       Just Don't Think I'll Cry   \n156363  tt0059325     DE  tt0059325     movie                     Born in '45   \n156364  tt0059900     DE  tt0059900     movie  Wenn du groß bist, lieber Adam   \n156365  tt0070080     DE  tt0070080     movie             Barnen från Jordbro   \n...           ...    ...        ...       ...                             ...   \n582695  tt0390072     BH  tt0390072     movie                     The Barrier   \n582705  tt2032431     MV  tt2032431     movie                        Dheriyaa   \n582708  tt3429952     SD  tt3429952     movie           The Sheikh's Blessing   \n582710  tt3990150     MM  tt3990150     movie             Thu Kyun Ma Khan Py   \n582711  tt9468550     SC  tt9468550     movie                     Bolot Feray   \n\n        startYear  averageRating  numVotes alpha-2        name  \n156361     1993.0            7.0        27      DE     Germany  \n156362     1990.0            6.6        63      DE     Germany  \n156363     1990.0            6.5       270      DE     Germany  \n156364     1990.0            6.4        42      DE     Germany  \n156365     1996.0            7.2        50      DE     Germany  \n...           ...            ...       ...     ...         ...  \n582695     1990.0            5.2        19      BH     Bahrain  \n582705     1994.0            7.2        13      MV    Maldives  \n582708     1998.0            7.4        13      SD       Sudan  \n582710     1997.0            6.4        10      MM     Myanmar  \n582711     1995.0            3.6         8      SC  Seychelles  \n\n[181295 rows x 10 columns]",
      "text/html": "<div>\n<style scoped>\n    .dataframe tbody tr th:only-of-type {\n        vertical-align: middle;\n    }\n\n    .dataframe tbody tr th {\n        vertical-align: top;\n    }\n\n    .dataframe thead th {\n        text-align: right;\n    }\n</style>\n<table border=\"1\" class=\"dataframe\">\n  <thead>\n    <tr style=\"text-align: right;\">\n      <th></th>\n      <th>titleId</th>\n      <th>region</th>\n      <th>tconst</th>\n      <th>titleType</th>\n      <th>primaryTitle</th>\n      <th>startYear</th>\n      <th>averageRating</th>\n      <th>numVotes</th>\n      <th>alpha-2</th>\n      <th>name</th>\n    </tr>\n  </thead>\n  <tbody>\n    <tr>\n      <th>156361</th>\n      <td>tt0038086</td>\n      <td>DE</td>\n      <td>tt0038086</td>\n      <td>movie</td>\n      <td>Shiva und die Galgenblume</td>\n      <td>1993.0</td>\n      <td>7.0</td>\n      <td>27</td>\n      <td>DE</td>\n      <td>Germany</td>\n    </tr>\n    <tr>\n      <th>156362</th>\n      <td>tt0059097</td>\n      <td>DE</td>\n      <td>tt0059097</td>\n      <td>movie</td>\n      <td>Just Don't Think I'll Cry</td>\n      <td>1990.0</td>\n      <td>6.6</td>\n      <td>63</td>\n      <td>DE</td>\n      <td>Germany</td>\n    </tr>\n    <tr>\n      <th>156363</th>\n      <td>tt0059325</td>\n      <td>DE</td>\n      <td>tt0059325</td>\n      <td>movie</td>\n      <td>Born in '45</td>\n      <td>1990.0</td>\n      <td>6.5</td>\n      <td>270</td>\n      <td>DE</td>\n      <td>Germany</td>\n    </tr>\n    <tr>\n      <th>156364</th>\n      <td>tt0059900</td>\n      <td>DE</td>\n      <td>tt0059900</td>\n      <td>movie</td>\n      <td>Wenn du groß bist, lieber Adam</td>\n      <td>1990.0</td>\n      <td>6.4</td>\n      <td>42</td>\n      <td>DE</td>\n      <td>Germany</td>\n    </tr>\n    <tr>\n      <th>156365</th>\n      <td>tt0070080</td>\n      <td>DE</td>\n      <td>tt0070080</td>\n      <td>movie</td>\n      <td>Barnen från Jordbro</td>\n      <td>1996.0</td>\n      <td>7.2</td>\n      <td>50</td>\n      <td>DE</td>\n      <td>Germany</td>\n    </tr>\n    <tr>\n      <th>...</th>\n      <td>...</td>\n      <td>...</td>\n      <td>...</td>\n      <td>...</td>\n      <td>...</td>\n      <td>...</td>\n      <td>...</td>\n      <td>...</td>\n      <td>...</td>\n      <td>...</td>\n    </tr>\n    <tr>\n      <th>582695</th>\n      <td>tt0390072</td>\n      <td>BH</td>\n      <td>tt0390072</td>\n      <td>movie</td>\n      <td>The Barrier</td>\n      <td>1990.0</td>\n      <td>5.2</td>\n      <td>19</td>\n      <td>BH</td>\n      <td>Bahrain</td>\n    </tr>\n    <tr>\n      <th>582705</th>\n      <td>tt2032431</td>\n      <td>MV</td>\n      <td>tt2032431</td>\n      <td>movie</td>\n      <td>Dheriyaa</td>\n      <td>1994.0</td>\n      <td>7.2</td>\n      <td>13</td>\n      <td>MV</td>\n      <td>Maldives</td>\n    </tr>\n    <tr>\n      <th>582708</th>\n      <td>tt3429952</td>\n      <td>SD</td>\n      <td>tt3429952</td>\n      <td>movie</td>\n      <td>The Sheikh's Blessing</td>\n      <td>1998.0</td>\n      <td>7.4</td>\n      <td>13</td>\n      <td>SD</td>\n      <td>Sudan</td>\n    </tr>\n    <tr>\n      <th>582710</th>\n      <td>tt3990150</td>\n      <td>MM</td>\n      <td>tt3990150</td>\n      <td>movie</td>\n      <td>Thu Kyun Ma Khan Py</td>\n      <td>1997.0</td>\n      <td>6.4</td>\n      <td>10</td>\n      <td>MM</td>\n      <td>Myanmar</td>\n    </tr>\n    <tr>\n      <th>582711</th>\n      <td>tt9468550</td>\n      <td>SC</td>\n      <td>tt9468550</td>\n      <td>movie</td>\n      <td>Bolot Feray</td>\n      <td>1995.0</td>\n      <td>3.6</td>\n      <td>8</td>\n      <td>SC</td>\n      <td>Seychelles</td>\n    </tr>\n  </tbody>\n</table>\n<p>181295 rows × 10 columns</p>\n</div>"
     },
     "execution_count": 26,
     "metadata": {},
     "output_type": "execute_result"
    }
   ],
   "source": [
    "movies_df = merged_data.drop_duplicates(\n",
    "        subset=['region', 'tconst', 'startYear', 'averageRating', 'numVotes'],\n",
    "        keep='first',\n",
    "    )\n",
    "movies_df"
   ],
   "metadata": {
    "collapsed": false,
    "ExecuteTime": {
     "end_time": "2024-05-30T15:29:13.065965Z",
     "start_time": "2024-05-30T15:29:13.001422Z"
    }
   },
   "id": "ed5ede3db5f9eeb1"
  },
  {
   "cell_type": "code",
   "execution_count": 28,
   "outputs": [
    {
     "data": {
      "text/plain": "          titleId region     tconst titleType            primaryTitle  \\\n183160  tt0015414     FR  tt0015414     movie  La tierra de los toros   \n183161  tt0015414     FR  tt0015414     movie  La tierra de los toros   \n205460  tt0015414     ES  tt0015414     movie  La tierra de los toros   \n\n        startYear  averageRating  numVotes alpha-2    name  \n183160     2000.0            5.4        17      FR  France  \n183161     2000.0            5.4        17      FR  France  \n205460     2000.0            5.4        17      ES   Spain  ",
      "text/html": "<div>\n<style scoped>\n    .dataframe tbody tr th:only-of-type {\n        vertical-align: middle;\n    }\n\n    .dataframe tbody tr th {\n        vertical-align: top;\n    }\n\n    .dataframe thead th {\n        text-align: right;\n    }\n</style>\n<table border=\"1\" class=\"dataframe\">\n  <thead>\n    <tr style=\"text-align: right;\">\n      <th></th>\n      <th>titleId</th>\n      <th>region</th>\n      <th>tconst</th>\n      <th>titleType</th>\n      <th>primaryTitle</th>\n      <th>startYear</th>\n      <th>averageRating</th>\n      <th>numVotes</th>\n      <th>alpha-2</th>\n      <th>name</th>\n    </tr>\n  </thead>\n  <tbody>\n    <tr>\n      <th>183160</th>\n      <td>tt0015414</td>\n      <td>FR</td>\n      <td>tt0015414</td>\n      <td>movie</td>\n      <td>La tierra de los toros</td>\n      <td>2000.0</td>\n      <td>5.4</td>\n      <td>17</td>\n      <td>FR</td>\n      <td>France</td>\n    </tr>\n    <tr>\n      <th>183161</th>\n      <td>tt0015414</td>\n      <td>FR</td>\n      <td>tt0015414</td>\n      <td>movie</td>\n      <td>La tierra de los toros</td>\n      <td>2000.0</td>\n      <td>5.4</td>\n      <td>17</td>\n      <td>FR</td>\n      <td>France</td>\n    </tr>\n    <tr>\n      <th>205460</th>\n      <td>tt0015414</td>\n      <td>ES</td>\n      <td>tt0015414</td>\n      <td>movie</td>\n      <td>La tierra de los toros</td>\n      <td>2000.0</td>\n      <td>5.4</td>\n      <td>17</td>\n      <td>ES</td>\n      <td>Spain</td>\n    </tr>\n  </tbody>\n</table>\n</div>"
     },
     "execution_count": 28,
     "metadata": {},
     "output_type": "execute_result"
    }
   ],
   "source": [
    "merged_data[merged_data['tconst'] == 'tt0015414']"
   ],
   "metadata": {
    "collapsed": false,
    "ExecuteTime": {
     "end_time": "2024-05-30T15:29:29.148223Z",
     "start_time": "2024-05-30T15:29:29.135336Z"
    }
   },
   "id": "f8b8a49e44582bf0"
  },
  {
   "cell_type": "code",
   "execution_count": 29,
   "outputs": [
    {
     "name": "stdout",
     "output_type": "stream",
     "text": [
      "--------------------------------------------------\n",
      "Top 10 countries based on top 10 films: \n",
      "                       country_name  avg_rating  total_votes  film_count\n",
      "87         United States of America        9.63          416          10\n",
      "86  United Kingdom of Great Britain        9.46      2914914          10\n",
      "36                            India        9.29      2914785          10\n",
      "64                      Philippines        9.25      4370342          10\n",
      "43                            Japan        9.21      6603679          10\n",
      "34                          Hungary        9.18      6584054          10\n",
      "16                           Canada        9.17      4375552          10\n",
      "29                           France        9.14      4370280          10\n",
      "31                          Germany        9.11      6599461          10\n",
      "52                           Mexico        9.05     13243617          10\n",
      "--------------------------------------------------\n",
      "Top 10 countries based on top 20 films: \n",
      "                       country_name  avg_rating  total_votes  film_count\n",
      "74         United States of America       9.490      2900391          20\n",
      "73  United Kingdom of Great Britain       9.280      4371118          20\n",
      "32                            India       9.190      4376122          20\n",
      "52                      Philippines       9.105      8932040          20\n",
      "13                           Canada       9.065      6607832          20\n",
      "25                           France       9.020     11197962          20\n",
      "38                            Japan       8.980     14526003          20\n",
      "30                          Hungary       8.940     20778907          20\n",
      "27                          Germany       8.925     14529217          20\n",
      "44                           Mexico       8.825     25577875          20\n",
      "--------------------------------------------------\n",
      "Top 10 countries based on top 50 films: \n",
      "                       country_name  avg_rating  total_votes  film_count\n",
      "66         United States of America       9.308      4371756          50\n",
      "65  United Kingdom of Great Britain       9.034     11204391          50\n",
      "29                            India       8.986     14550273          50\n",
      "11                           Canada       8.830     22796707          50\n",
      "47                      Philippines       8.824     29077211          50\n",
      "22                           France       8.798     25627886          50\n",
      "24                          Germany       8.710     29173962          50\n",
      "35                            Japan       8.696     30489403          50\n",
      "27                          Hungary       8.632     38126996          50\n",
      "51               Russian Federation       8.610     33941370          50\n",
      "--------------------------------------------------\n",
      "Top 10 countries based on top 100 films: \n",
      "                       country_name  avg_rating  total_votes  film_count\n",
      "61         United States of America       9.111     11202597         100\n",
      "60  United Kingdom of Great Britain       8.841     26882119         100\n",
      "25                            India       8.806     22819374         100\n",
      "8                            Canada       8.641     38184515         100\n",
      "42                      Philippines       8.575     43447676         100\n",
      "19                           France       8.558     44129384         100\n",
      "20                          Germany       8.502     44283926         100\n",
      "31                            Japan       8.471     44238545         100\n",
      "46               Russian Federation       8.422     46662752         100\n",
      "23                          Hungary       8.387     48983303         100\n",
      "--------------------------------------------------\n",
      "Top 10 countries based on top 200 films: \n",
      "                       country_name  avg_rating  total_votes  film_count\n",
      "55         United States of America      8.8980     22809464         200\n",
      "54  United Kingdom of Great Britain      8.6080     42529751         200\n",
      "22                            India      8.5995     38284541         200\n",
      "6                            Canada      8.3995     51470253         200\n",
      "17                           France      8.3140     55103794         200\n",
      "18                          Germany      8.2960     53403705         200\n",
      "36                      Philippines      8.2740     57625362         200\n",
      "28                            Japan      8.2600     57372124         200\n",
      "40               Russian Federation      8.2220     58173726         200\n",
      "21                          Hungary      8.1620     60955624         200\n"
     ]
    }
   ],
   "source": [
    "perform_task_1(merged_data) "
   ],
   "metadata": {
    "collapsed": false,
    "ExecuteTime": {
     "end_time": "2024-05-30T15:29:39.825418Z",
     "start_time": "2024-05-30T15:29:38.833617Z"
    }
   },
   "id": "fe370dd179ee840b"
  },
  {
   "cell_type": "code",
   "execution_count": null,
   "outputs": [],
   "source": [],
   "metadata": {
    "collapsed": false
   },
   "id": "602d1db08ceb6d06"
  }
 ],
 "metadata": {
  "kernelspec": {
   "display_name": "Python 3",
   "language": "python",
   "name": "python3"
  },
  "language_info": {
   "codemirror_mode": {
    "name": "ipython",
    "version": 2
   },
   "file_extension": ".py",
   "mimetype": "text/x-python",
   "name": "python",
   "nbconvert_exporter": "python",
   "pygments_lexer": "ipython2",
   "version": "2.7.6"
  }
 },
 "nbformat": 4,
 "nbformat_minor": 5
}
